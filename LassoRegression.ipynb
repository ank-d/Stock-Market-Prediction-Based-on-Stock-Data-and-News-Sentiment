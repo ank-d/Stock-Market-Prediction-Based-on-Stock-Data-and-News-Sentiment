{
  "nbformat": 4,
  "nbformat_minor": 0,
  "metadata": {
    "colab": {
      "provenance": [],
      "include_colab_link": true
    },
    "kernelspec": {
      "name": "python3",
      "display_name": "Python 3"
    },
    "language_info": {
      "name": "python"
    }
  },
  "cells": [
    {
      "cell_type": "markdown",
      "metadata": {
        "id": "view-in-github",
        "colab_type": "text"
      },
      "source": [
        "<a href=\"https://colab.research.google.com/github/ank-d/Stock-Market-Prediction-Based-on-Stock-Data-and-News-Sentiment/blob/main/LassoRegression.ipynb\" target=\"_parent\"><img src=\"https://colab.research.google.com/assets/colab-badge.svg\" alt=\"Open In Colab\"/></a>"
      ]
    },
    {
      "cell_type": "code",
      "execution_count": null,
      "metadata": {
        "id": "1CKMoHok_zrp"
      },
      "outputs": [],
      "source": [
        "import pandas as pd\n",
        "from sklearn.model_selection import train_test_split\n",
        "from sklearn.linear_model import Lasso\n",
        "from sklearn.metrics import r2_score\n",
        "\n",
        "from sklearn.preprocessing import StandardScaler\n",
        "from sklearn.metrics import mean_squared_error\n"
      ]
    },
    {
      "cell_type": "code",
      "source": [
        "from google.colab import drive\n",
        "drive.mount('/content/drive')"
      ],
      "metadata": {
        "colab": {
          "base_uri": "https://localhost:8080/"
        },
        "id": "MhSofO67AcQC",
        "outputId": "bb3c453b-8b6a-404f-8ab7-6b0b50478b38"
      },
      "execution_count": null,
      "outputs": [
        {
          "output_type": "stream",
          "name": "stdout",
          "text": [
            "Drive already mounted at /content/drive; to attempt to forcibly remount, call drive.mount(\"/content/drive\", force_remount=True).\n"
          ]
        }
      ]
    },
    {
      "cell_type": "code",
      "source": [
        "# data = pd.read_csv('/content/drive/MyDrive/Colab Notebooks/FinalMeta_Data.csv')\n",
        "data = pd.read_csv('FinalMeta_Data.csv')\n",
        "\n",
        "# data.head()\n",
        "data=data[['High', 'Low', 'Open', 'Volume','Close','Polarity']]\n",
        "# data.head()\n",
        "\n",
        "modifyData=data['Close'].shift()\n",
        "data['prev_close']=modifyData\n",
        "modifyData=data['Open'].shift()\n",
        "data['prev_open']=modifyData\n",
        "modifyData=data['High'].shift()\n",
        "data['prev_high']=modifyData\n",
        "modifyData=data['Volume'].shift()\n",
        "data['prev_volume']=modifyData\n",
        "modifyData=data['Low'].shift()\n",
        "data['prev_low']=modifyData\n",
        "data.head()\n"
      ],
      "metadata": {
        "colab": {
          "base_uri": "https://localhost:8080/",
          "height": 206
        },
        "id": "rUqsupU1AYBG",
        "outputId": "a0ffa9f7-6aa1-4315-c846-8f602e50b48e"
      },
      "execution_count": null,
      "outputs": [
        {
          "output_type": "execute_result",
          "data": {
            "text/plain": [
              "          High          Low         Open  Volume        Close  Polarity  \\\n",
              "0  8951.799805  8888.650391  8943.700195  189900  8896.700195  0.000000   \n",
              "1  8914.750000  8867.599609  8898.950195  293600  8879.599609  0.333333   \n",
              "2  8960.799805  8898.599609  8904.400391  205900  8945.799805  0.000000   \n",
              "3  8992.500000  8879.799805  8982.849609  218800  8899.750000 -0.285714   \n",
              "4  8907.099609  8860.099609  8883.500000  202600  8897.549805 -0.166667   \n",
              "\n",
              "    prev_close    prev_open    prev_high  prev_volume     prev_low  \n",
              "0          NaN          NaN          NaN          NaN          NaN  \n",
              "1  8896.700195  8943.700195  8951.799805     189900.0  8888.650391  \n",
              "2  8879.599609  8898.950195  8914.750000     293600.0  8867.599609  \n",
              "3  8945.799805  8904.400391  8960.799805     205900.0  8898.599609  \n",
              "4  8899.750000  8982.849609  8992.500000     218800.0  8879.799805  "
            ],
            "text/html": [
              "\n",
              "  <div id=\"df-89342978-578a-465c-8f64-e95cb4bafdd0\" class=\"colab-df-container\">\n",
              "    <div>\n",
              "<style scoped>\n",
              "    .dataframe tbody tr th:only-of-type {\n",
              "        vertical-align: middle;\n",
              "    }\n",
              "\n",
              "    .dataframe tbody tr th {\n",
              "        vertical-align: top;\n",
              "    }\n",
              "\n",
              "    .dataframe thead th {\n",
              "        text-align: right;\n",
              "    }\n",
              "</style>\n",
              "<table border=\"1\" class=\"dataframe\">\n",
              "  <thead>\n",
              "    <tr style=\"text-align: right;\">\n",
              "      <th></th>\n",
              "      <th>High</th>\n",
              "      <th>Low</th>\n",
              "      <th>Open</th>\n",
              "      <th>Volume</th>\n",
              "      <th>Close</th>\n",
              "      <th>Polarity</th>\n",
              "      <th>prev_close</th>\n",
              "      <th>prev_open</th>\n",
              "      <th>prev_high</th>\n",
              "      <th>prev_volume</th>\n",
              "      <th>prev_low</th>\n",
              "    </tr>\n",
              "  </thead>\n",
              "  <tbody>\n",
              "    <tr>\n",
              "      <th>0</th>\n",
              "      <td>8951.799805</td>\n",
              "      <td>8888.650391</td>\n",
              "      <td>8943.700195</td>\n",
              "      <td>189900</td>\n",
              "      <td>8896.700195</td>\n",
              "      <td>0.000000</td>\n",
              "      <td>NaN</td>\n",
              "      <td>NaN</td>\n",
              "      <td>NaN</td>\n",
              "      <td>NaN</td>\n",
              "      <td>NaN</td>\n",
              "    </tr>\n",
              "    <tr>\n",
              "      <th>1</th>\n",
              "      <td>8914.750000</td>\n",
              "      <td>8867.599609</td>\n",
              "      <td>8898.950195</td>\n",
              "      <td>293600</td>\n",
              "      <td>8879.599609</td>\n",
              "      <td>0.333333</td>\n",
              "      <td>8896.700195</td>\n",
              "      <td>8943.700195</td>\n",
              "      <td>8951.799805</td>\n",
              "      <td>189900.0</td>\n",
              "      <td>8888.650391</td>\n",
              "    </tr>\n",
              "    <tr>\n",
              "      <th>2</th>\n",
              "      <td>8960.799805</td>\n",
              "      <td>8898.599609</td>\n",
              "      <td>8904.400391</td>\n",
              "      <td>205900</td>\n",
              "      <td>8945.799805</td>\n",
              "      <td>0.000000</td>\n",
              "      <td>8879.599609</td>\n",
              "      <td>8898.950195</td>\n",
              "      <td>8914.750000</td>\n",
              "      <td>293600.0</td>\n",
              "      <td>8867.599609</td>\n",
              "    </tr>\n",
              "    <tr>\n",
              "      <th>3</th>\n",
              "      <td>8992.500000</td>\n",
              "      <td>8879.799805</td>\n",
              "      <td>8982.849609</td>\n",
              "      <td>218800</td>\n",
              "      <td>8899.750000</td>\n",
              "      <td>-0.285714</td>\n",
              "      <td>8945.799805</td>\n",
              "      <td>8904.400391</td>\n",
              "      <td>8960.799805</td>\n",
              "      <td>205900.0</td>\n",
              "      <td>8898.599609</td>\n",
              "    </tr>\n",
              "    <tr>\n",
              "      <th>4</th>\n",
              "      <td>8907.099609</td>\n",
              "      <td>8860.099609</td>\n",
              "      <td>8883.500000</td>\n",
              "      <td>202600</td>\n",
              "      <td>8897.549805</td>\n",
              "      <td>-0.166667</td>\n",
              "      <td>8899.750000</td>\n",
              "      <td>8982.849609</td>\n",
              "      <td>8992.500000</td>\n",
              "      <td>218800.0</td>\n",
              "      <td>8879.799805</td>\n",
              "    </tr>\n",
              "  </tbody>\n",
              "</table>\n",
              "</div>\n",
              "    <div class=\"colab-df-buttons\">\n",
              "\n",
              "  <div class=\"colab-df-container\">\n",
              "    <button class=\"colab-df-convert\" onclick=\"convertToInteractive('df-89342978-578a-465c-8f64-e95cb4bafdd0')\"\n",
              "            title=\"Convert this dataframe to an interactive table.\"\n",
              "            style=\"display:none;\">\n",
              "\n",
              "  <svg xmlns=\"http://www.w3.org/2000/svg\" height=\"24px\" viewBox=\"0 -960 960 960\">\n",
              "    <path d=\"M120-120v-720h720v720H120Zm60-500h600v-160H180v160Zm220 220h160v-160H400v160Zm0 220h160v-160H400v160ZM180-400h160v-160H180v160Zm440 0h160v-160H620v160ZM180-180h160v-160H180v160Zm440 0h160v-160H620v160Z\"/>\n",
              "  </svg>\n",
              "    </button>\n",
              "\n",
              "  <style>\n",
              "    .colab-df-container {\n",
              "      display:flex;\n",
              "      gap: 12px;\n",
              "    }\n",
              "\n",
              "    .colab-df-convert {\n",
              "      background-color: #E8F0FE;\n",
              "      border: none;\n",
              "      border-radius: 50%;\n",
              "      cursor: pointer;\n",
              "      display: none;\n",
              "      fill: #1967D2;\n",
              "      height: 32px;\n",
              "      padding: 0 0 0 0;\n",
              "      width: 32px;\n",
              "    }\n",
              "\n",
              "    .colab-df-convert:hover {\n",
              "      background-color: #E2EBFA;\n",
              "      box-shadow: 0px 1px 2px rgba(60, 64, 67, 0.3), 0px 1px 3px 1px rgba(60, 64, 67, 0.15);\n",
              "      fill: #174EA6;\n",
              "    }\n",
              "\n",
              "    .colab-df-buttons div {\n",
              "      margin-bottom: 4px;\n",
              "    }\n",
              "\n",
              "    [theme=dark] .colab-df-convert {\n",
              "      background-color: #3B4455;\n",
              "      fill: #D2E3FC;\n",
              "    }\n",
              "\n",
              "    [theme=dark] .colab-df-convert:hover {\n",
              "      background-color: #434B5C;\n",
              "      box-shadow: 0px 1px 3px 1px rgba(0, 0, 0, 0.15);\n",
              "      filter: drop-shadow(0px 1px 2px rgba(0, 0, 0, 0.3));\n",
              "      fill: #FFFFFF;\n",
              "    }\n",
              "  </style>\n",
              "\n",
              "    <script>\n",
              "      const buttonEl =\n",
              "        document.querySelector('#df-89342978-578a-465c-8f64-e95cb4bafdd0 button.colab-df-convert');\n",
              "      buttonEl.style.display =\n",
              "        google.colab.kernel.accessAllowed ? 'block' : 'none';\n",
              "\n",
              "      async function convertToInteractive(key) {\n",
              "        const element = document.querySelector('#df-89342978-578a-465c-8f64-e95cb4bafdd0');\n",
              "        const dataTable =\n",
              "          await google.colab.kernel.invokeFunction('convertToInteractive',\n",
              "                                                    [key], {});\n",
              "        if (!dataTable) return;\n",
              "\n",
              "        const docLinkHtml = 'Like what you see? Visit the ' +\n",
              "          '<a target=\"_blank\" href=https://colab.research.google.com/notebooks/data_table.ipynb>data table notebook</a>'\n",
              "          + ' to learn more about interactive tables.';\n",
              "        element.innerHTML = '';\n",
              "        dataTable['output_type'] = 'display_data';\n",
              "        await google.colab.output.renderOutput(dataTable, element);\n",
              "        const docLink = document.createElement('div');\n",
              "        docLink.innerHTML = docLinkHtml;\n",
              "        element.appendChild(docLink);\n",
              "      }\n",
              "    </script>\n",
              "  </div>\n",
              "\n",
              "\n",
              "<div id=\"df-1dc1b325-99b3-474a-9b1b-8fe04eb49e73\">\n",
              "  <button class=\"colab-df-quickchart\" onclick=\"quickchart('df-1dc1b325-99b3-474a-9b1b-8fe04eb49e73')\"\n",
              "            title=\"Suggest charts\"\n",
              "            style=\"display:none;\">\n",
              "\n",
              "<svg xmlns=\"http://www.w3.org/2000/svg\" height=\"24px\"viewBox=\"0 0 24 24\"\n",
              "     width=\"24px\">\n",
              "    <g>\n",
              "        <path d=\"M19 3H5c-1.1 0-2 .9-2 2v14c0 1.1.9 2 2 2h14c1.1 0 2-.9 2-2V5c0-1.1-.9-2-2-2zM9 17H7v-7h2v7zm4 0h-2V7h2v10zm4 0h-2v-4h2v4z\"/>\n",
              "    </g>\n",
              "</svg>\n",
              "  </button>\n",
              "\n",
              "<style>\n",
              "  .colab-df-quickchart {\n",
              "      --bg-color: #E8F0FE;\n",
              "      --fill-color: #1967D2;\n",
              "      --hover-bg-color: #E2EBFA;\n",
              "      --hover-fill-color: #174EA6;\n",
              "      --disabled-fill-color: #AAA;\n",
              "      --disabled-bg-color: #DDD;\n",
              "  }\n",
              "\n",
              "  [theme=dark] .colab-df-quickchart {\n",
              "      --bg-color: #3B4455;\n",
              "      --fill-color: #D2E3FC;\n",
              "      --hover-bg-color: #434B5C;\n",
              "      --hover-fill-color: #FFFFFF;\n",
              "      --disabled-bg-color: #3B4455;\n",
              "      --disabled-fill-color: #666;\n",
              "  }\n",
              "\n",
              "  .colab-df-quickchart {\n",
              "    background-color: var(--bg-color);\n",
              "    border: none;\n",
              "    border-radius: 50%;\n",
              "    cursor: pointer;\n",
              "    display: none;\n",
              "    fill: var(--fill-color);\n",
              "    height: 32px;\n",
              "    padding: 0;\n",
              "    width: 32px;\n",
              "  }\n",
              "\n",
              "  .colab-df-quickchart:hover {\n",
              "    background-color: var(--hover-bg-color);\n",
              "    box-shadow: 0 1px 2px rgba(60, 64, 67, 0.3), 0 1px 3px 1px rgba(60, 64, 67, 0.15);\n",
              "    fill: var(--button-hover-fill-color);\n",
              "  }\n",
              "\n",
              "  .colab-df-quickchart-complete:disabled,\n",
              "  .colab-df-quickchart-complete:disabled:hover {\n",
              "    background-color: var(--disabled-bg-color);\n",
              "    fill: var(--disabled-fill-color);\n",
              "    box-shadow: none;\n",
              "  }\n",
              "\n",
              "  .colab-df-spinner {\n",
              "    border: 2px solid var(--fill-color);\n",
              "    border-color: transparent;\n",
              "    border-bottom-color: var(--fill-color);\n",
              "    animation:\n",
              "      spin 1s steps(1) infinite;\n",
              "  }\n",
              "\n",
              "  @keyframes spin {\n",
              "    0% {\n",
              "      border-color: transparent;\n",
              "      border-bottom-color: var(--fill-color);\n",
              "      border-left-color: var(--fill-color);\n",
              "    }\n",
              "    20% {\n",
              "      border-color: transparent;\n",
              "      border-left-color: var(--fill-color);\n",
              "      border-top-color: var(--fill-color);\n",
              "    }\n",
              "    30% {\n",
              "      border-color: transparent;\n",
              "      border-left-color: var(--fill-color);\n",
              "      border-top-color: var(--fill-color);\n",
              "      border-right-color: var(--fill-color);\n",
              "    }\n",
              "    40% {\n",
              "      border-color: transparent;\n",
              "      border-right-color: var(--fill-color);\n",
              "      border-top-color: var(--fill-color);\n",
              "    }\n",
              "    60% {\n",
              "      border-color: transparent;\n",
              "      border-right-color: var(--fill-color);\n",
              "    }\n",
              "    80% {\n",
              "      border-color: transparent;\n",
              "      border-right-color: var(--fill-color);\n",
              "      border-bottom-color: var(--fill-color);\n",
              "    }\n",
              "    90% {\n",
              "      border-color: transparent;\n",
              "      border-bottom-color: var(--fill-color);\n",
              "    }\n",
              "  }\n",
              "</style>\n",
              "\n",
              "  <script>\n",
              "    async function quickchart(key) {\n",
              "      const quickchartButtonEl =\n",
              "        document.querySelector('#' + key + ' button');\n",
              "      quickchartButtonEl.disabled = true;  // To prevent multiple clicks.\n",
              "      quickchartButtonEl.classList.add('colab-df-spinner');\n",
              "      try {\n",
              "        const charts = await google.colab.kernel.invokeFunction(\n",
              "            'suggestCharts', [key], {});\n",
              "      } catch (error) {\n",
              "        console.error('Error during call to suggestCharts:', error);\n",
              "      }\n",
              "      quickchartButtonEl.classList.remove('colab-df-spinner');\n",
              "      quickchartButtonEl.classList.add('colab-df-quickchart-complete');\n",
              "    }\n",
              "    (() => {\n",
              "      let quickchartButtonEl =\n",
              "        document.querySelector('#df-1dc1b325-99b3-474a-9b1b-8fe04eb49e73 button');\n",
              "      quickchartButtonEl.style.display =\n",
              "        google.colab.kernel.accessAllowed ? 'block' : 'none';\n",
              "    })();\n",
              "  </script>\n",
              "</div>\n",
              "    </div>\n",
              "  </div>\n"
            ],
            "application/vnd.google.colaboratory.intrinsic+json": {
              "type": "dataframe",
              "variable_name": "data",
              "summary": "{\n  \"name\": \"data\",\n  \"rows\": 724,\n  \"fields\": [\n    {\n      \"column\": \"High\",\n      \"properties\": {\n        \"dtype\": \"number\",\n        \"std\": 845.3625304685196,\n        \"min\": 8907.099609375,\n        \"max\": 12430.5,\n        \"num_unique_values\": 720,\n        \"samples\": [\n          11006.5,\n          10766.25,\n          9505.75\n        ],\n        \"semantic_type\": \"\",\n        \"description\": \"\"\n      }\n    },\n    {\n      \"column\": \"Low\",\n      \"properties\": {\n        \"dtype\": \"number\",\n        \"std\": 830.579619621514,\n        \"min\": 8860.099609375,\n        \"max\": 12321.400390625,\n        \"num_unique_values\": 718,\n        \"samples\": [\n          9848.849609375,\n          10876.650390625,\n          9322.650390625\n        ],\n        \"semantic_type\": \"\",\n        \"description\": \"\"\n      }\n    },\n    {\n      \"column\": \"Open\",\n      \"properties\": {\n        \"dtype\": \"number\",\n        \"std\": 840.4233194813627,\n        \"min\": 8883.5,\n        \"max\": 12430.5,\n        \"num_unique_values\": 718,\n        \"samples\": [\n          9881.2001953125,\n          10902.75,\n          9359.150390625\n        ],\n        \"semantic_type\": \"\",\n        \"description\": \"\"\n      }\n    },\n    {\n      \"column\": \"Volume\",\n      \"properties\": {\n        \"dtype\": \"number\",\n        \"std\": 190375,\n        \"min\": 0,\n        \"max\": 1414800,\n        \"num_unique_values\": 646,\n        \"samples\": [\n          758000,\n          691300,\n          456200\n        ],\n        \"semantic_type\": \"\",\n        \"description\": \"\"\n      }\n    },\n    {\n      \"column\": \"Close\",\n      \"properties\": {\n        \"dtype\": \"number\",\n        \"std\": 836.9341966821771,\n        \"min\": 8879.599609375,\n        \"max\": 12362.2998046875,\n        \"num_unique_values\": 714,\n        \"samples\": [\n          9796.0498046875,\n          10947.25,\n          9304.0498046875\n        ],\n        \"semantic_type\": \"\",\n        \"description\": \"\"\n      }\n    },\n    {\n      \"column\": \"Polarity\",\n      \"properties\": {\n        \"dtype\": \"number\",\n        \"std\": 0.3417761193861157,\n        \"min\": -1.0,\n        \"max\": 1.0,\n        \"num_unique_values\": 71,\n        \"samples\": [\n          0.625,\n          0.0,\n          0.3846153846153846\n        ],\n        \"semantic_type\": \"\",\n        \"description\": \"\"\n      }\n    },\n    {\n      \"column\": \"prev_close\",\n      \"properties\": {\n        \"dtype\": \"number\",\n        \"std\": 836.6361633243321,\n        \"min\": 8879.599609375,\n        \"max\": 12362.2998046875,\n        \"num_unique_values\": 713,\n        \"samples\": [\n          9796.0498046875,\n          10947.25,\n          9304.0498046875\n        ],\n        \"semantic_type\": \"\",\n        \"description\": \"\"\n      }\n    },\n    {\n      \"column\": \"prev_open\",\n      \"properties\": {\n        \"dtype\": \"number\",\n        \"std\": 840.0094278130463,\n        \"min\": 8883.5,\n        \"max\": 12430.5,\n        \"num_unique_values\": 717,\n        \"samples\": [\n          9881.2001953125,\n          10902.75,\n          9359.150390625\n        ],\n        \"semantic_type\": \"\",\n        \"description\": \"\"\n      }\n    },\n    {\n      \"column\": \"prev_high\",\n      \"properties\": {\n        \"dtype\": \"number\",\n        \"std\": 845.0214345582142,\n        \"min\": 8907.099609375,\n        \"max\": 12430.5,\n        \"num_unique_values\": 719,\n        \"samples\": [\n          9881.5,\n          10384.5,\n          9367.150390625\n        ],\n        \"semantic_type\": \"\",\n        \"description\": \"\"\n      }\n    },\n    {\n      \"column\": \"prev_volume\",\n      \"properties\": {\n        \"dtype\": \"number\",\n        \"std\": 190439.9041331422,\n        \"min\": 0.0,\n        \"max\": 1414800.0,\n        \"num_unique_values\": 645,\n        \"samples\": [\n          560400.0,\n          605800.0,\n          752600.0\n        ],\n        \"semantic_type\": \"\",\n        \"description\": \"\"\n      }\n    },\n    {\n      \"column\": \"prev_low\",\n      \"properties\": {\n        \"dtype\": \"number\",\n        \"std\": 830.2125915554227,\n        \"min\": 8860.099609375,\n        \"max\": 12321.400390625,\n        \"num_unique_values\": 717,\n        \"samples\": [\n          9848.849609375,\n          10876.650390625,\n          9322.650390625\n        ],\n        \"semantic_type\": \"\",\n        \"description\": \"\"\n      }\n    }\n  ]\n}"
            }
          },
          "metadata": {},
          "execution_count": 38
        }
      ]
    },
    {
      "cell_type": "code",
      "source": [
        "data['Close'].plot(figsize=(10,8))"
      ],
      "metadata": {
        "colab": {
          "base_uri": "https://localhost:8080/",
          "height": 693
        },
        "id": "zK6smQ-EAlxu",
        "outputId": "2e60ba83-a671-4992-81be-f1980b470a3f"
      },
      "execution_count": null,
      "outputs": [
        {
          "output_type": "execute_result",
          "data": {
            "text/plain": [
              "<Axes: >"
            ]
          },
          "metadata": {},
          "execution_count": 39
        },
        {
          "output_type": "display_data",
          "data": {
            "text/plain": [
              "<Figure size 1000x800 with 1 Axes>"
            ],
            "image/png": "[encoded data removed]"
          },
          "metadata": {}
        }
      ]
    },
    {
      "cell_type": "code",
      "source": [
        "# Drop rows with NaN values (due to shifting)\n",
        "data.dropna(inplace=True)\n",
        "data.info()\n"
      ],
      "metadata": {
        "colab": {
          "base_uri": "https://localhost:8080/"
        },
        "id": "ryTxaSUqAobo",
        "outputId": "b29bc227-210b-4336-ea73-0fb11f82deab"
      },
      "execution_count": null,
      "outputs": [
        {
          "output_type": "stream",
          "name": "stdout",
          "text": [
            "<class 'pandas.core.frame.DataFrame'>\n",
            "Index: 723 entries, 1 to 723\n",
            "Data columns (total 11 columns):\n",
            " #   Column       Non-Null Count  Dtype  \n",
            "---  ------       --------------  -----  \n",
            " 0   High         723 non-null    float64\n",
            " 1   Low          723 non-null    float64\n",
            " 2   Open         723 non-null    float64\n",
            " 3   Volume       723 non-null    int64  \n",
            " 4   Close        723 non-null    float64\n",
            " 5   Polarity     723 non-null    float64\n",
            " 6   prev_close   723 non-null    float64\n",
            " 7   prev_open    723 non-null    float64\n",
            " 8   prev_high    723 non-null    float64\n",
            " 9   prev_volume  723 non-null    float64\n",
            " 10  prev_low     723 non-null    float64\n",
            "dtypes: float64(10), int64(1)\n",
            "memory usage: 67.8 KB\n"
          ]
        }
      ]
    },
    {
      "cell_type": "code",
      "source": [
        "# Define features and target variable\n",
        "features = ['High', 'Low', 'Open', 'Volume']  # Define the features you want to use for prediction\n",
        "target = 'Close'  # Define the target variable you want to predict\n",
        "\n",
        "# Split data into training and testing sets\n",
        "X_train, X_test, y_train, y_test = train_test_split(data[features], data[target], test_size=0.2, random_state=42)\n",
        "\n",
        "# Initialize and train the Lasso regression model\n",
        "lasso_model = Lasso(alpha=0.1)  # You can adjust the regularization parameter alpha\n",
        "lasso_model.fit(X_train, y_train)\n",
        "\n",
        "# Evaluate the model\n",
        "train_score = lasso_model.score(X_train, y_train)\n",
        "test_score = lasso_model.score(X_test, y_test)\n",
        "\n",
        "print(\"Train R^2 Score:\", train_score)\n",
        "print(\"Test R^2 Score:\", test_score)\n",
        "\n",
        "# Make predictions on the test set\n",
        "predictions = lasso_model.predict(X_test)\n",
        "\n",
        "# Print the first few predictions\n",
        "print(\"Predictions:\", predictions[:5])\n"
      ],
      "metadata": {
        "colab": {
          "base_uri": "https://localhost:8080/"
        },
        "id": "maCxfN-0A2Pf",
        "outputId": "c9c300b1-b263-485e-d87b-b3eb22bcdb3a"
      },
      "execution_count": null,
      "outputs": [
        {
          "output_type": "stream",
          "name": "stdout",
          "text": [
            "Train R^2 Score: 0.9989192733286167\n",
            "Test R^2 Score: 0.9991827694928394\n",
            "Predictions: [10945.03152195 11613.86523455 10767.19582824  9139.04250178\n",
            " 10885.02194643]\n"
          ]
        },
        {
          "output_type": "stream",
          "name": "stderr",
          "text": [
            "/usr/local/lib/python3.10/dist-packages/sklearn/linear_model/_coordinate_descent.py:631: ConvergenceWarning:\n",
            "\n",
            "Objective did not converge. You might want to increase the number of iterations, check the scale of the features or consider increasing regularisation. Duality gap: 2.145e+05, tolerance: 3.975e+04\n",
            "\n"
          ]
        }
      ]
    },
    {
      "cell_type": "code",
      "source": [
        "from sklearn.metrics import mean_absolute_error, mean_squared_error, r2_score"
      ],
      "metadata": {
        "id": "QjfuBbffCjF8"
      },
      "execution_count": null,
      "outputs": []
    },
    {
      "cell_type": "code",
      "source": [
        "# Calculate Mean Absolute Error (MAE)\n",
        "mae = mean_absolute_error(y_test, predictions)\n",
        "\n",
        "# Calculate Mean Squared Error (MSE)\n",
        "mse = mean_squared_error(y_test, predictions)\n",
        "\n",
        "# Calculate R-squared (R^2)\n",
        "r_squared = r2_score(y_test, predictions)\n",
        "\n",
        "# Print evaluation metrics\n",
        "print(f\"Mean Absolute Error (MAE): {mae:.2f}\")\n",
        "print(f\"Mean Squared Error (MSE): {mse: .2f}\")\n",
        "print(f\"R-squared: {r_squared:.2f}\")\n",
        "# print(\"R-squared (R^2):\", r_squared)\n",
        "\n",
        "# Predict the closing price for the next day\n",
        "# Assuming the last row of the dataset contains the most recent data\n",
        "last_row = data[features].iloc[-1]\n",
        "next_day_prediction = lasso_model.predict([last_row])[0]\n",
        "print(\"Predicted Closing Price for Next Day:\", next_day_prediction)\n"
      ],
      "metadata": {
        "colab": {
          "base_uri": "https://localhost:8080/"
        },
        "id": "gaVUU59cCzbZ",
        "outputId": "94e1011d-0719-400c-e660-074f16653cc1"
      },
      "execution_count": null,
      "outputs": [
        {
          "output_type": "stream",
          "name": "stdout",
          "text": [
            "Mean Absolute Error (MAE): 18.14\n",
            "Mean Squared Error (MSE):  593.27\n",
            "R-squared: 1.00\n",
            "Predicted Closing Price for Next Day: 11801.98696370478\n"
          ]
        },
        {
          "output_type": "stream",
          "name": "stderr",
          "text": [
            "/usr/local/lib/python3.10/dist-packages/sklearn/base.py:439: UserWarning:\n",
            "\n",
            "X does not have valid feature names, but Lasso was fitted with feature names\n",
            "\n"
          ]
        }
      ]
    },
    {
      "cell_type": "code",
      "source": [
        "# Define the new set of features and the target variable\n",
        "features2 = ['High', 'Low', 'Open', 'Volume', 'Polarity']\n",
        "target = 'Close'\n",
        "\n",
        "# Split data into training and testing sets using the new features\n",
        "X_train2, X_test2, y_train2, y_test2 = train_test_split(data[features2], data[target], test_size=0.2, random_state=42)\n",
        "\n",
        "# Initialize and train the Lasso regression model with the new features\n",
        "lasso_model2 = Lasso(alpha=0.1)  # You can adjust the regularization parameter alpha\n",
        "lasso_model2.fit(X_train2, y_train2)\n",
        "\n",
        "# Evaluate the model\n",
        "train_score2 = lasso_model2.score(X_train2, y_train2)\n",
        "test_score2 = lasso_model2.score(X_test2, y_test2)\n",
        "\n",
        "print(\"Train R^2 Score with features2:\", train_score2)\n",
        "print(\"Test R^2 Score with features2:\", test_score2)\n",
        "\n",
        "# Make predictions on the testing set using the new features\n",
        "predictions2 = lasso_model2.predict(X_test2)\n",
        "\n",
        "# Print the first few predictions\n",
        "print(\"Predictions with features2:\", predictions2[:5])\n"
      ],
      "metadata": {
        "colab": {
          "base_uri": "https://localhost:8080/"
        },
        "id": "P-G8rsg9DUXv",
        "outputId": "6688d85d-e293-4195-9f24-ce19c5b2a703"
      },
      "execution_count": null,
      "outputs": [
        {
          "output_type": "stream",
          "name": "stdout",
          "text": [
            "Train R^2 Score with features2: 0.9989193417627422\n",
            "Test R^2 Score with features2: 0.999183093012646\n",
            "Predictions with features2: [10945.06361815 11613.67462135 10767.10629285  9139.00999157\n",
            " 10885.05378111]\n"
          ]
        },
        {
          "output_type": "stream",
          "name": "stderr",
          "text": [
            "/usr/local/lib/python3.10/dist-packages/sklearn/linear_model/_coordinate_descent.py:631: ConvergenceWarning:\n",
            "\n",
            "Objective did not converge. You might want to increase the number of iterations, check the scale of the features or consider increasing regularisation. Duality gap: 2.145e+05, tolerance: 3.975e+04\n",
            "\n"
          ]
        }
      ]
    },
    {
      "cell_type": "code",
      "source": [
        "from sklearn.metrics import mean_absolute_error, mean_squared_error, r2_score\n",
        "\n",
        "# Calculate Mean Absolute Error (MAE) with the new features\n",
        "mae2 = mean_absolute_error(y_test2, predictions2)\n",
        "\n",
        "# Calculate Mean Squared Error (MSE) with the new features\n",
        "mse2 = mean_squared_error(y_test2, predictions2)\n",
        "\n",
        "# Calculate R-squared (R^2) with the new features\n",
        "r_squared2 = r2_score(y_test2, predictions2)\n",
        "\n",
        "# Print evaluation metrics with the new features\n",
        "print(\"Mean Absolute Error (MAE) with features2: {:.3f}\".format(mae2))\n",
        "print(\"Mean Squared Error (MSE) with features2: {:.3f}\".format(mse2))\n",
        "print(\"R-squared (R^2) with features2: {:.3f}\".format(r_squared2))\n",
        "\n",
        "# Calculate the model score on the testing set with the new features\n",
        "test_score2 = lasso_model2.score(X_test2, y_test2)\n",
        "print(\"Model Score (R^2) on Testing Set with features2:\", test_score2)\n",
        "\n",
        "# Predict the closing price for the next day using the new features\n",
        "# Assuming the last row of the dataset contains the most recent data\n",
        "last_row2 = data[features2].iloc[-1]\n",
        "next_day_prediction2 = lasso_model2.predict([last_row2])[0]\n",
        "print(\"Predicted Closing Price for Next Day with features2:\", next_day_prediction2)\n"
      ],
      "metadata": {
        "colab": {
          "base_uri": "https://localhost:8080/"
        },
        "id": "WxBog1S8DfHt",
        "outputId": "70669780-3449-413b-a121-ba40c3b5c263"
      },
      "execution_count": null,
      "outputs": [
        {
          "output_type": "stream",
          "name": "stdout",
          "text": [
            "Mean Absolute Error (MAE) with features2: 18.144\n",
            "Mean Squared Error (MSE) with features2: 593.032\n",
            "R-squared (R^2) with features2: 0.999\n",
            "Model Score (R^2) on Testing Set with features2: 0.999183093012646\n",
            "Predicted Closing Price for Next Day with features2: 11802.07603919676\n"
          ]
        },
        {
          "output_type": "stream",
          "name": "stderr",
          "text": [
            "/usr/local/lib/python3.10/dist-packages/sklearn/base.py:439: UserWarning:\n",
            "\n",
            "X does not have valid feature names, but Lasso was fitted with feature names\n",
            "\n"
          ]
        }
      ]
    },
    {
      "cell_type": "code",
      "source": [
        "import matplotlib.pyplot as plt\n",
        "import plotly.graph_objects as go\n",
        "\n",
        "# Assuming you have already imported data, features, features2, model, model2, and target\n",
        "x=data[features]\n",
        "z=data[features2]\n",
        "# Make predictions\n",
        "predicted = lasso_model.predict(x)\n",
        "predictedY = lasso_model2.predict(z)\n",
        "y=data[target]\n",
        "# Create a Plotly figure\n",
        "fig = go.Figure()\n",
        "\n",
        "# Add traces for actual, predicted, and predicted with polarity score\n",
        "fig.add_trace(go.Scatter(x=data.index, y=y, mode='lines', name='Actual'))\n",
        "fig.add_trace(go.Scatter(x=data.index, y=predicted.flatten(), mode='lines', name='Predicted'))\n",
        "fig.add_trace(go.Scatter(x=data.index, y=predictedY.flatten(), mode='lines', name='Predicted with Polarity Score'))\n",
        "\n",
        "\n",
        "# Update layout for better readability\n",
        "fig.update_layout(\n",
        "    title=\"Comparative Study\",\n",
        "    xaxis_title=\"Index\",\n",
        "    yaxis_title=\"Value\",\n",
        "    autosize=False,\n",
        "    width=1000,\n",
        "    height=600,\n",
        "    margin=dict(l=50, r=50, b=100, t=100, pad=4),\n",
        ")\n",
        "# Show the plot\n",
        "fig.show()"
      ],
      "metadata": {
        "colab": {
          "base_uri": "https://localhost:8080/",
          "height": 617
        },
        "id": "B-6Q1ZvvD4uM",
        "outputId": "47d08587-c471-44b2-f54c-2f53123d85bf"
      },
      "execution_count": null,
      "outputs": [
        {
          "output_type": "display_data",
          "data": {
            "text/html": [
              "<html>\n",
              "<head><meta charset=\"utf-8\" /></head>\n",
              "<body>\n",
              "    <div>            <script src=\"https://cdnjs.cloudflare.com/ajax/libs/mathjax/2.7.5/MathJax.js?config=TeX-AMS-MML_SVG\"></script><script type=\"text/javascript\">if (window.MathJax && window.MathJax.Hub && window.MathJax.Hub.Config) {window.MathJax.Hub.Config({SVG: {font: \"STIX-Web\"}});}</script>                <script type=\"text/javascript\">window.PlotlyConfig = {MathJaxConfig: 'local'};</script>\n",
              "        <script charset=\"utf-8\" src=\"https://cdn.plot.ly/plotly-2.24.1.min.js\"></script>                <div id=\"6c3684c3-204e-43d5-9c91-7f6d08d02ac0\" class=\"plotly-graph-div\" style=\"height:600px; width:1000px;\"></div>            <script type=\"text/javascript\">                                    window.PLOTLYENV=window.PLOTLYENV || {};                                    if (document.getElementById(\"6c3684c3-204e-43d5-9c91-7f6d08d02ac0\")) {                    Plotly.newPlot(                        \"6c3684c3-204e-43d5-9c91-7f6d08d02ac0\",                        [{\"mode\":\"lines\",\"name\":\"Actual\",\"x\":[1,2,3,4,5,6,7,8,9,10,11,12,13,14,15,16,17,18,19,20,21,22,23,24,25,26,27,28,29,30,31,32,33,34,35,36,37,38,39,40,41,42,43,44,45,46,47,48,49,50,51,52,53,54,55,56,57,58,59,60,61,62,63,64,65,66,67,68,69,70,71,72,73,74,75,76,77,78,79,80,81,82,83,84,85,86,87,88,89,90,91,92,93,94,95,96,97,98,99,100,101,102,103,104,105,106,107,108,109,110,111,112,113,114,115,116,117,118,119,120,121,122,123,124,125,126,127,128,129,130,131,132,133,134,135,136,137,138,139,140,141,142,143,144,145,146,147,148,149,150,151,152,153,154,155,156,157,158,159,160,161,162,163,164,165,166,167,168,169,170,171,172,173,174,175,176,177,178,179,180,181,182,183,184,185,186,187,188,189,190,191,192,193,194,195,196,197,198,199,200,201,202,203,204,205,206,207,208,209,210,211,212,213,214,215,216,217,218,219,220,221,222,223,224,225,226,227,228,229,230,231,232,233,234,235,236,237,238,239,240,241,242,243,244,245,246,247,248,249,250,251,252,253,254,255,256,257,258,259,260,261,262,263,264,265,266,267,268,269,270,271,272,273,274,275,276,277,278,279,280,281,282,283,284,285,286,287,288,289,290,291,292,293,294,295,296,297,298,299,300,301,302,303,304,305,306,307,308,309,310,311,312,313,314,315,316,317,318,319,320,321,322,323,324,325,326,327,328,329,330,331,332,333,334,335,336,337,338,339,340,341,342,343,344,345,346,347,348,349,350,351,352,353,354,355,356,357,358,359,360,361,362,363,364,365,366,367,368,369,370,371,372,373,374,375,376,377,378,379,380,381,382,383,384,385,386,387,388,389,390,391,392,393,394,395,396,397,398,399,400,401,402,403,404,405,406,407,408,409,410,411,412,413,414,415,416,417,418,419,420,421,422,423,424,425,426,427,428,429,430,431,432,433,434,435,436,437,438,439,440,441,442,443,444,445,446,447,448,449,450,451,452,453,454,455,456,457,458,459,460,461,462,463,464,465,466,467,468,469,470,471,472,473,474,475,476,477,478,479,480,481,482,483,484,485,486,487,488,489,490,491,492,493,494,495,496,497,498,499,500,501,502,503,504,505,506,507,508,509,510,511,512,513,514,515,516,517,518,519,520,521,522,523,524,525,526,527,528,529,530,531,532,533,534,535,536,537,538,539,540,541,542,543,544,545,546,547,548,549,550,551,552,553,554,555,556,557,558,559,560,561,562,563,564,565,566,567,568,569,570,571,572,573,574,575,576,577,578,579,580,581,582,583,584,585,586,587,588,589,590,591,592,593,594,595,596,597,598,599,600,601,602,603,604,605,606,607,608,609,610,611,612,613,614,615,616,617,618,619,620,621,622,623,624,625,626,627,628,629,630,631,632,633,634,635,636,637,638,639,640,641,642,643,644,645,646,647,648,649,650,651,652,653,654,655,656,657,658,659,660,661,662,663,664,665,666,667,668,669,670,671,672,673,674,675,676,677,678,679,680,681,682,683,684,685,686,687,688,689,690,691,692,693,694,695,696,697,698,699,700,701,702,703,704,705,706,707,708,709,710,711,712,713,714,715,716,717,718,719,720,721,722,723],\"y\":[8879.599609375,8945.7998046875,8899.75,8897.5498046875,8963.4501953125,8946.900390625,8924.2998046875,8927.0,8934.5498046875,9087.0,9084.7998046875,9153.7001953125,9160.0498046875,9126.849609375,9121.5,9030.4501953125,9086.2998046875,9108.0,9045.2001953125,9100.7998046875,9143.7998046875,9173.75,9173.75,9237.849609375,9265.150390625,9261.9501953125,9198.2998046875,9181.4501953125,9203.4501953125,9150.7998046875,9139.2998046875,9105.150390625,9103.5,9136.400390625,9119.400390625,9217.9501953125,9306.599609375,9351.849609375,9342.150390625,9304.0498046875,9313.7998046875,9311.9501953125,9359.900390625,9285.2998046875,9314.0498046875,9316.849609375,9407.2998046875,9422.400390625,9400.900390625,9445.400390625,9512.25,9525.75,9429.4501953125,9427.900390625,9438.25,9386.150390625,9360.5498046875,9509.75,9595.099609375,9604.900390625,9624.5498046875,9621.25,9616.099609375,9653.5,9675.099609375,9637.150390625,9663.900390625,9647.25,9668.25,9616.400390625,9606.900390625,9618.150390625,9578.0498046875,9588.0498046875,9657.5498046875,9653.5,9633.599609375,9630.0,9574.9501953125,9511.400390625,9491.25,9520.900390625,9615.0,9613.2998046875,9637.599609375,9674.5498046875,9665.7998046875,9771.0498046875,9786.0498046875,9816.099609375,9891.7001953125,9886.349609375,9915.9501953125,9827.150390625,9899.599609375,9873.2998046875,9915.25,9966.400390625,9964.5498046875,10020.650390625,10020.5498046875,10014.5,10077.099609375,10114.650390625,10081.5,10013.650390625,10066.400390625,10057.400390625,9978.5498046875,9908.0498046875,9820.25,9710.7998046875,9794.150390625,9897.2998046875,9904.150390625,9837.400390625,9754.349609375,9765.5498046875,9852.5,9857.0498046875,9912.7998046875,9796.0498046875,9884.400390625,9917.900390625,9974.400390625,9912.849609375,9952.2001953125,9916.2001953125,9929.900390625,9934.7998046875,10006.0498046875,10093.0498046875,10079.2998046875,10086.599609375,10085.400390625,10153.099609375,10147.5498046875,10141.150390625,10121.900390625,9964.400390625,9872.599609375,9871.5,9735.75,9768.9501953125,9788.599609375,9859.5,9914.900390625,9888.7001953125,9979.7001953125,9988.75,10016.9501953125,9984.7998046875,10096.400390625,10167.4501953125,10230.849609375,10234.4501953125,10210.849609375,10146.5498046875,10184.849609375,10207.7001953125,10295.349609375,10343.7998046875,10323.0498046875,10363.650390625,10335.2998046875,10440.5,10423.7998046875,10452.5,10451.7998046875,10350.150390625,10303.150390625,10308.9501953125,10321.75,10224.9501953125,10186.599609375,10118.0498046875,10283.599609375,10298.75,10326.900390625,10342.2998046875,10348.75,10389.7001953125,10399.5498046875,10370.25,10361.2998046875,10226.5498046875,10121.7998046875,10127.75,10118.25,10044.099609375,10166.7001953125,10265.650390625,10322.25,10240.150390625,10192.9501953125,10252.099609375,10333.25,10388.75,10463.2001953125,10444.2001953125,10440.2998046875,10493.0,10531.5,10490.75,10477.900390625,10530.7001953125,10442.2001953125,10443.2001953125,10504.7998046875,10558.849609375,10623.599609375,10637.0,10632.2001953125,10651.2001953125,10681.25,10741.5498046875,10700.4501953125,10788.5498046875,10817.0,10894.7001953125,10966.2001953125,11083.7001953125,11086.0,11069.650390625,11049.650390625,11027.7001953125,11016.900390625,10666.5498046875,10498.25,10476.7001953125,10576.849609375,10454.9501953125,10539.75,10500.900390625,10545.5,10452.2998046875,10378.400390625,10360.400390625,10397.4501953125,10382.7001953125,10491.0498046875,10582.599609375,10554.2998046875,10492.849609375,10458.349609375,10358.849609375,10249.25,10154.2001953125,10242.650390625,10226.849609375,10421.400390625,10426.849609375,10410.900390625,10360.150390625,10195.150390625,10094.25,10124.349609375,10155.25,10114.75,9998.0498046875,10130.650390625,10184.150390625,10113.7001953125,10211.7998046875,10245.0,10128.400390625,10325.150390625,10331.599609375,10379.349609375,10402.25,10417.150390625,10458.650390625,10480.599609375,10528.349609375,10548.7001953125,10526.2001953125,10565.2998046875,10564.0498046875,10584.7001953125,10614.349609375,10570.5498046875,10617.7998046875,10692.2998046875,10739.349609375,10718.0498046875,10679.650390625,10618.25,10715.5,10717.7998046875,10741.7001953125,10716.5498046875,10806.5,10806.599609375,10801.849609375,10741.099609375,10682.7001953125,10596.400390625,10516.7001953125,10536.7001953125,10430.349609375,10513.849609375,10605.150390625,10688.650390625,10633.2998046875,10614.349609375,10736.150390625,10696.2001953125,10628.5,10593.150390625,10684.650390625,10768.349609375,10767.650390625,10786.9501953125,10842.849609375,10856.7001953125,10817.7001953125,10799.849609375,10710.4501953125,10772.0498046875,10741.099609375,10821.849609375,10762.4501953125,10769.150390625,10671.400390625,10589.099609375,10714.2998046875,10657.2998046875,10699.900390625,10769.900390625,10749.75,10772.650390625,10852.900390625,10947.25,10948.2998046875,11023.2001953125,11018.900390625,10936.849609375,11008.0498046875,10980.4501953125,10957.099609375,11010.2001953125,11084.75,11134.2998046875,11132.0,11167.2998046875,11278.349609375,11319.5498046875,11356.5,11346.2001953125,11244.7001953125,11360.7998046875,11387.099609375,11389.4501953125,11450.0,11470.7001953125,11429.5,11355.75,11435.099609375,11385.0498046875,11470.75,11551.75,11570.900390625,11582.75,11557.099609375,11691.9501953125,11738.5,11691.900390625,11676.7998046875,11680.5,11582.349609375,11520.2998046875,11476.9501953125,11536.900390625,11589.099609375,11438.099609375,11287.5,11369.900390625,11515.2001953125,11377.75,11278.900390625,11234.349609375,11143.099609375,10967.400390625,11067.4501953125,11053.7998046875,10977.5498046875,10930.4501953125,11008.2998046875,10858.25,10599.25,10316.4501953125,10348.0498046875,10301.0498046875,10460.099609375,10234.650390625,10472.5,10512.5,10584.75,10453.0498046875,10303.5498046875,10245.25,10146.7998046875,10224.75,10124.900390625,10030.0,10250.849609375,10198.400390625,10386.599609375,10380.4501953125,10553.0,10524.0,10530.0,10598.400390625,10585.2001953125,10482.2001953125,10582.5,10576.2998046875,10616.7001953125,10682.2001953125,10763.400390625,10656.2001953125,10600.0498046875,10526.75,10628.599609375,10685.599609375,10728.849609375,10858.7001953125,10876.75,10883.75,10869.5,10782.900390625,10601.150390625,10693.7001953125,10488.4501953125,10549.150390625,10737.599609375,10791.5498046875,10805.4501953125,10888.349609375,10908.7001953125,10967.2998046875,10951.7001953125,10754.0,10663.5,10729.849609375,10779.7998046875,10859.900390625,10862.5498046875,10792.5,10672.25,10727.349609375,10771.7998046875,10802.150390625,10855.150390625,10821.599609375,10794.9501953125,10737.599609375,10886.7998046875,10890.2998046875,10905.2001953125,10906.9501953125,10961.849609375,10922.75,10831.5,10849.7998046875,10780.5498046875,10661.5498046875,10652.2001953125,10651.7998046875,10830.9501953125,10893.650390625,10912.25,10934.349609375,11062.4501953125,11069.400390625,10943.599609375,10888.7998046875,10831.400390625,10746.0498046875,10724.400390625,10640.9501953125,10604.349609375,10735.4501953125,10789.849609375,10791.650390625,10880.099609375,10835.2998046875,10806.650390625,10863.5,10987.4501953125,11053.0,11058.2001953125,11035.400390625,11168.0498046875,11301.2001953125,11341.7001953125,11343.25,11426.849609375,11462.2001953125,11521.0498046875,11456.900390625,11354.25,11483.25,11445.0498046875,11570.0,11669.150390625,11713.2001953125,11643.9501953125,11598.0,11665.9501953125,11604.5,11671.9501953125,11584.2998046875,11596.7001953125,11643.4501953125,11787.150390625,11752.7998046875,11594.4501953125,11575.9501953125,11726.150390625,11641.7998046875,11754.650390625,11748.150390625,11724.75,11712.25,11598.25,11497.900390625,11359.4501953125,11301.7998046875,11278.900390625,11148.2001953125,11222.0498046875,11157.0,11257.099609375,11407.150390625,11828.25,11709.099609375,11737.900390625,11657.0498046875,11844.099609375,11924.75,11928.75,11861.099609375,11945.900390625,11922.7998046875,12088.5498046875,12021.650390625,11843.75,11870.650390625,11922.7001953125,11965.599609375,11906.2001953125,11914.0498046875,11823.2998046875,11672.150390625,11691.5,11691.4501953125,11831.75,11724.099609375,11699.650390625,11796.4501953125,11841.5498046875,11788.849609375,11865.599609375,11910.2998046875,11916.75,11946.75,11811.150390625,11558.599609375,11555.900390625,11498.900390625,11582.900390625,11552.5,11588.349609375,11662.599609375,11687.5,11596.900390625,11419.25,11346.2001953125,11331.0498046875,11271.2998046875,11252.150390625,11189.2001953125,11085.400390625,11118.0,10980.0,10997.349609375,10862.599609375,10948.25,10855.5,11032.4501953125,11109.650390625,10925.849609375,11029.400390625,11047.7998046875,11053.900390625,11017.0,10918.7001953125,10741.349609375,10829.349609375,11057.849609375,11105.349609375,11046.099609375,10948.2998046875,11023.25,10797.900390625,10844.650390625,10847.900390625,10946.2001953125,11003.0498046875,11035.7001953125,10982.7998046875,11075.900390625,11003.5,10817.599609375,10840.650390625,10704.7998046875,11274.2001953125,11600.2001953125,11588.2001953125,11440.2001953125,11571.2001953125,11512.400390625,11474.4501953125,11359.900390625,11314.0,11174.75,11126.400390625,11313.2998046875,11234.5498046875,11305.0498046875,11341.150390625,11428.2998046875,11464.0,11586.349609375,11661.849609375,11588.349609375,11604.099609375,11582.599609375,11583.900390625,11786.849609375,11844.099609375,11877.4501953125,11890.599609375,11941.2998046875,11917.2001953125,11966.0498046875,12012.0498046875,11908.150390625,11913.4501953125,11840.4501953125,11872.099609375,11895.4501953125,11884.5,11940.099609375,11999.099609375,11968.400390625,11914.400390625,12073.75,12037.7001953125,12100.7001953125,12151.150390625,12056.0498046875,12048.2001953125,11994.2001953125,12043.2001953125,12018.400390625,11921.5,11937.5,11856.7998046875,11910.150390625,11971.7998046875,12086.7001953125,12053.9501953125,12165.0,12221.650390625,12259.7001953125,12271.7998046875,12262.75,12214.5498046875,12126.5498046875,12245.7998046875,12255.849609375,12168.4501953125,12182.5,12282.2001953125,12226.650390625,11993.0498046875,12052.9501953125,12025.349609375,12215.900390625,12256.7998046875,12329.5498046875,12362.2998046875,12343.2998046875,12355.5,12352.349609375,12224.5498046875,12169.849609375,12106.900390625,12180.349609375,12248.25,12119.0,12055.7998046875,12129.5,12035.7998046875,11962.099609375,11707.900390625,11979.650390625,12089.150390625,12137.9501953125,12098.349609375,12031.5,12107.900390625,12201.2001953125,12174.650390625,12113.4501953125,12045.7998046875,11992.5,12125.900390625,12080.849609375,11829.400390625,11797.900390625],\"type\":\"scatter\"},{\"mode\":\"lines\",\"name\":\"Predicted\",\"x\":[1,2,3,4,5,6,7,8,9,10,11,12,13,14,15,16,17,18,19,20,21,22,23,24,25,26,27,28,29,30,31,32,33,34,35,36,37,38,39,40,41,42,43,44,45,46,47,48,49,50,51,52,53,54,55,56,57,58,59,60,61,62,63,64,65,66,67,68,69,70,71,72,73,74,75,76,77,78,79,80,81,82,83,84,85,86,87,88,89,90,91,92,93,94,95,96,97,98,99,100,101,102,103,104,105,106,107,108,109,110,111,112,113,114,115,116,117,118,119,120,121,122,123,124,125,126,127,128,129,130,131,132,133,134,135,136,137,138,139,140,141,142,143,144,145,146,147,148,149,150,151,152,153,154,155,156,157,158,159,160,161,162,163,164,165,166,167,168,169,170,171,172,173,174,175,176,177,178,179,180,181,182,183,184,185,186,187,188,189,190,191,192,193,194,195,196,197,198,199,200,201,202,203,204,205,206,207,208,209,210,211,212,213,214,215,216,217,218,219,220,221,222,223,224,225,226,227,228,229,230,231,232,233,234,235,236,237,238,239,240,241,242,243,244,245,246,247,248,249,250,251,252,253,254,255,256,257,258,259,260,261,262,263,264,265,266,267,268,269,270,271,272,273,274,275,276,277,278,279,280,281,282,283,284,285,286,287,288,289,290,291,292,293,294,295,296,297,298,299,300,301,302,303,304,305,306,307,308,309,310,311,312,313,314,315,316,317,318,319,320,321,322,323,324,325,326,327,328,329,330,331,332,333,334,335,336,337,338,339,340,341,342,343,344,345,346,347,348,349,350,351,352,353,354,355,356,357,358,359,360,361,362,363,364,365,366,367,368,369,370,371,372,373,374,375,376,377,378,379,380,381,382,383,384,385,386,387,388,389,390,391,392,393,394,395,396,397,398,399,400,401,402,403,404,405,406,407,408,409,410,411,412,413,414,415,416,417,418,419,420,421,422,423,424,425,426,427,428,429,430,431,432,433,434,435,436,437,438,439,440,441,442,443,444,445,446,447,448,449,450,451,452,453,454,455,456,457,458,459,460,461,462,463,464,465,466,467,468,469,470,471,472,473,474,475,476,477,478,479,480,481,482,483,484,485,486,487,488,489,490,491,492,493,494,495,496,497,498,499,500,501,502,503,504,505,506,507,508,509,510,511,512,513,514,515,516,517,518,519,520,521,522,523,524,525,526,527,528,529,530,531,532,533,534,535,536,537,538,539,540,541,542,543,544,545,546,547,548,549,550,551,552,553,554,555,556,557,558,559,560,561,562,563,564,565,566,567,568,569,570,571,572,573,574,575,576,577,578,579,580,581,582,583,584,585,586,587,588,589,590,591,592,593,594,595,596,597,598,599,600,601,602,603,604,605,606,607,608,609,610,611,612,613,614,615,616,617,618,619,620,621,622,623,624,625,626,627,628,629,630,631,632,633,634,635,636,637,638,639,640,641,642,643,644,645,646,647,648,649,650,651,652,653,654,655,656,657,658,659,660,661,662,663,664,665,666,667,668,669,670,671,672,673,674,675,676,677,678,679,680,681,682,683,684,685,686,687,688,689,690,691,692,693,694,695,696,697,698,699,700,701,702,703,704,705,706,707,708,709,710,711,712,713,714,715,716,717,718,719,720,721,722,723],\"y\":[8892.340576343826,8956.451382210156,8918.448385762227,8890.33160545024,8966.753635982788,8945.346233155406,8914.770261537182,8934.870638905168,8939.780159133656,9099.680460681408,9097.660920682622,9156.672060258572,9174.181427488835,9130.43385289393,9113.389047230494,9052.305962992565,9098.189859084052,9122.211492931785,9044.87036740041,9108.355709180445,9138.190479164205,9177.71241142138,9185.706980180903,9223.792901821027,9237.383465896974,9247.238919890611,9223.67941247054,9188.01249868217,9187.294785217884,9160.266580416086,9141.280293975075,9168.378883784999,9093.106854224296,9139.042501777158,9117.88124717266,9220.754876803197,9291.36998463271,9340.268290949778,9339.233172942317,9298.90328103972,9300.733434503092,9311.395863435251,9336.931092063018,9301.929158511453,9327.329619118598,9315.962979535021,9410.166692680468,9421.798481520205,9389.767618024312,9439.59103527595,9511.497808590388,9507.625783243493,9461.732202006415,9446.873705387865,9458.894880615835,9392.263965786193,9380.333691450121,9517.63991669091,9593.450632402877,9626.165520493158,9625.721994683641,9627.364763619304,9622.04043118917,9656.384053935262,9672.949720685252,9653.155517671827,9651.614713960917,9656.348631111965,9651.495294796494,9609.619157475117,9636.784626006178,9595.16548828974,9577.734693318336,9591.67695423701,9662.065700385943,9654.316930401901,9619.232224972568,9677.997674510874,9588.979970726583,9526.402958286508,9487.258883929184,9512.09151889655,9589.454635426942,9611.64089297484,9631.84961804378,9687.829102042966,9661.351739124186,9726.554462909775,9813.152705003984,9807.309937818181,9891.726444454338,9860.81043255005,9914.578842774865,9852.599574548074,9898.12779686423,9877.965719122436,9876.690727913634,9965.579437661812,9963.033472803494,10008.970725880421,10068.982856191402,9984.487832269895,10068.701258380637,10098.611247728933,10074.310354534031,10017.282977332054,10056.26919126238,10063.105831282452,9992.45690801988,9916.932423906384,9819.738933380351,9749.384982717685,9812.187648094603,9862.976042136566,9899.540477990844,9803.388527432448,9791.778709350372,9779.684050166377,9842.55752590455,9854.539463158306,9903.76664770397,9810.089306034226,9899.327568934457,9886.396283538099,9959.38011227849,9896.07461028716,9935.926479424632,9915.593211523726,9940.240624037075,9927.014027096058,10022.202539320018,10072.342691632328,10101.410770560084,10095.294932343519,10097.187900595349,10165.487734743541,10141.341996165998,10147.004671573157,10096.114631795324,9989.22311475151,9853.398348225675,9842.995856734202,9769.640980186769,9751.038820944948,9822.483119138227,9846.989238262742,9910.193939908855,9909.577937211938,9984.102799146165,9990.8428712447,10021.424150255956,10000.674149800196,10075.504636581209,10184.424113036399,10214.692577543958,10235.872379080429,10207.288659719748,10144.5035849868,10181.799365833853,10206.753956348468,10277.964052587353,10336.027998416574,10324.109370594979,10371.990565031689,10332.765907194584,10440.548648958127,10427.016552181278,10414.215827947637,10471.484855338625,10382.20136973178,10323.92854994524,10297.239417898223,10303.540343460125,10253.001130556053,10208.683077982214,10114.776948763947,10297.63194509812,10285.988851510943,10342.917594162222,10333.49791390769,10331.990159710833,10395.400135442358,10386.40652274857,10380.342885555941,10365.156135044223,10240.434896716266,10156.399724828385,10117.459665078173,10107.960130626423,10059.866496159808,10176.678649492294,10263.333695456999,10303.294126759158,10252.837851318174,10243.462578929513,10208.03496138291,10348.883978597738,10303.168978466674,10459.860054332794,10447.318120950518,10434.169579643029,10488.426186034165,10514.518130096803,10501.808110727443,10501.33768274674,10529.72292449484,10436.87625208994,10459.416876748046,10486.798383215946,10549.552769420738,10622.266699580889,10622.689970153924,10606.252033280385,10640.100676925465,10622.359066249262,10772.061254383349,10702.492882891347,10770.278157092436,10814.86254045903,10873.946871127837,10965.926804228335,11082.574964421336,11085.092145585031,11025.450971547818,11050.367852704614,11022.00020538274,10990.441871998768,10683.41407379653,10574.526721895261,10492.440536224602,10603.393312183245,10461.06400958084,10525.698018088582,10491.726282380185,10592.355179301363,10490.331542084392,10350.07852903519,10392.463867341214,10365.590190166911,10382.107017275275,10484.838496773713,10581.910591288859,10569.21919232763,10509.708515682998,10495.785872474245,10348.124344793408,10289.12724769163,10172.843631694088,10215.180286912424,10248.832110571522,10423.484323687117,10464.32182629859,10373.89787126394,10371.740203108491,10222.9019344769,10119.29266290492,10149.154070095581,10187.17482721496,10158.449876175115,10011.385523784584,10117.03445575076,10168.303951196705,10120.224798642459,10197.995550634178,10238.884183715218,10157.768995617149,10325.69225273878,10322.053483067304,10388.275671994486,10396.551993535133,10370.400304647645,10452.914153291511,10482.315398221186,10532.569466265644,10509.94987642702,10538.184534039816,10553.316506641846,10552.379567750484,10576.004890129114,10623.658638722432,10551.654186839884,10602.684050538755,10709.727487940248,10751.025404755568,10710.13808249729,10661.559241531417,10622.789204693121,10706.131174191716,10702.443213439168,10756.628061763045,10724.8776887251,10792.226588206528,10798.475825060637,10899.231555273656,10745.850141803163,10690.561679494129,10608.936552457099,10535.56388749736,10532.314269242042,10453.458304829266,10496.778510399758,10615.058176722696,10697.32249845521,10657.861941507466,10627.35633025836,10721.53290141419,10716.86412659152,10657.532167238003,10569.356523375813,10680.08938938139,10810.713088551161,10752.68256148083,10839.665535763712,10829.901844973196,10853.491504832347,10788.56877359672,10792.09177848727,10719.060931273727,10766.99069640723,10743.209276680856,10806.586397584451,10773.671149514035,10790.714599579294,10683.075668111467,10593.76711032106,10715.807873640955,10637.826461374707,10678.917228283915,10743.303575520133,10736.013283717322,10802.335336888525,10830.506366843945,10930.346415424778,10944.782853369286,11064.78798470626,11021.928201720279,10945.03152195061,11000.365868047624,10993.536598209508,10952.579969892817,11009.712198889467,11078.671968233162,11122.977669584949,11123.308694896989,11172.043342186664,11258.26588218066,11293.656980610387,11325.62753999294,11347.956725020404,11252.346547830686,11356.240947167631,11395.825393353418,11373.841981316522,11426.387678154488,11457.276361254158,11429.071776798248,11375.752805023209,11434.909342184163,11418.04877526887,11472.723513128423,11553.358846955625,11545.250360414744,11557.323654525773,11569.476227200515,11682.917147130442,11733.88990669114,11694.974822774762,11648.736672396702,11691.362280606369,11608.965228103083,11519.303127328443,11445.997489213993,11496.222383729204,11539.894542175783,11460.541928368644,11324.212958721384,11306.993504520486,11504.021273203283,11384.933717811067,11321.30657743305,11239.938871327326,11048.416539214913,11003.320651886792,11010.205017083314,11027.95305619671,10990.766277227585,10913.296669216124,10949.495752750881,10881.793168750499,10599.391462207624,10354.362152893393,10312.974204049895,10312.68049175309,10466.495705105397,10308.528342549811,10479.88248719384,10438.508944112475,10580.656038821124,10522.877928651827,10310.129546167014,10272.7666297792,10181.217400475936,10177.118185248919,10121.680839139526,10040.006156674372,10229.056215871018,10234.06719344239,10315.895988153552,10364.701646824438,10597.424875115768,10494.01559861707,10550.250296555261,10586.668712126833,10563.041393129548,10536.055565608962,10581.788131287996,10571.929504239253,10623.12184361459,10679.205736163149,10737.210846352325,10662.846388596729,10586.882728174425,10567.59795054672,10574.80979884066,10670.16344348171,10744.509108991906,10857.069639580355,10874.136892608429,10872.479497241178,10852.094297618323,10761.88077350363,10622.826094998814,10665.2528116183,10528.518105507832,10549.572485912788,10723.775172972028,10787.497029343855,10785.335685222593,10886.786378000908,10885.02194643338,10975.43119176129,10951.090956785172,10808.8409356783,10680.905336225775,10668.39387578402,10788.750149520312,10883.300124403055,10872.817608095773,10792.090563106422,10709.820162155685,10683.259424654012,10789.4495492703,10773.240679537137,10782.109391993548,10810.670457597878,10774.501864468364,10718.72992489104,10889.468699380739,10904.14355844943,10868.388805154957,10875.687922392302,10955.514957592617,10880.721859123223,10851.837085896135,10826.703380453591,10850.302292029492,10681.815928854461,10633.518137790596,10639.469847502776,10822.512427669368,10948.705531588337,10875.464477911393,10933.170886032827,11062.701567692575,11090.440664124777,10962.97140492049,10870.354174061546,10863.27321665856,10737.613606772413,10664.452205371768,10674.027724009835,10679.47842655678,10739.257197002442,10785.45485330116,10777.018903606922,10861.65072245207,10848.494785815734,10839.089586411525,10856.411281397708,10952.896096689363,11035.550034113327,11044.350379698606,11019.439517152105,11165.990995387629,11308.216281578816,11307.554657285687,11324.78306780189,11473.04924892702,11476.298929264365,11510.06339112572,11480.692441967196,11325.994404183788,11470.670570179822,11451.43545208984,11570.550918672145,11712.766079325294,11678.785212458688,11674.23121986486,11579.799248513204,11658.3337506325,11588.49902933841,11643.043762951698,11615.798123621373,11566.303941358428,11622.448567074454,11796.613375076586,11760.73795173401,11613.865234548764,11601.020734506494,11713.970567192264,11706.345581840933,11736.3290868717,11679.138319093436,11759.790744911366,11743.342912566244,11597.4847125988,11527.085022350646,11375.086308750679,11300.143678646158,11291.436929624337,11195.944243285407,11254.84682797954,11181.43587851264,11246.146314417081,11415.310533187992,11791.23862639029,11742.901411801051,11741.298890545639,11824.447541020721,11783.581446934995,11914.784387496833,11880.2815868519,11870.995173818543,11952.80734745895,11905.586440459065,12066.905420556877,12049.533525816216,11878.036252133288,11817.628466170678,11918.164542218065,11948.863850698157,11881.987455203336,11879.287812256867,11820.025210734186,11699.59213038111,11690.822151267883,11706.243256918597,11819.277536640733,11729.294914467273,11703.32719104647,11781.94475452198,11871.379118641,11799.089652814155,11866.744160494722,11851.923405960644,11901.337840040116,11953.888203375602,11850.866591863653,11584.36272416323,11521.986317770768,11540.228787629141,11558.730347372953,11584.432647397933,11549.103081573458,11643.460465925635,11682.079226994601,11600.05515523687,11466.507510386506,11323.292805416144,11339.10354202478,11284.233905400137,11315.789969041789,11190.99055687257,11157.760074444992,11112.280747264347,10940.489146841885,11014.044241459955,10807.414897465505,11009.741312082213,10880.581944431964,11009.928260060658,11155.100318699531,10967.571722829503,11021.726864788048,10975.199894832882,11097.708698348068,11011.919640282944,10946.563629036407,10767.195828238067,10810.91886870907,10888.136482189164,11092.771755958825,11040.117013115245,10960.671935471933,10953.967154985909,10825.161441629227,10820.03535136568,10880.573231565611,10937.759935712484,10987.384165742546,11034.892054566255,11006.911751486587,11047.15156708103,11025.602806628644,10846.65128804982,10829.188300158785,10712.978267520766,11334.203645012642,11633.832985630544,11608.068768378618,11448.681302068397,11598.624986145078,11543.175073601922,11426.942264801628,11353.715569069665,11315.243109734372,11226.778404027074,11165.61399076025,11268.025120565473,11232.995875896102,11305.156475541347,11378.377472723967,11439.459643393511,11432.894120836758,11570.315330386726,11655.245833654044,11644.444942313687,11611.568669134422,11578.527248371965,11525.726373778192,11787.169659784771,11801.79216778691,11909.126883751103,11876.349974632305,11961.018485034898,11886.874056867786,11947.597602861295,11956.587032540767,11952.278191270916,11903.265901328754,11874.646993105542,11844.339257944563,11944.369488507617,11900.75986506726,11920.503733591984,11999.254846252717,11967.291315495442,11896.594700604493,12070.770196345618,12046.644624892078,12093.347429143738,12123.64465189561,12043.315025583945,12044.07557811528,11977.187182896361,12018.339818209617,12017.418736206604,11931.909162727974,11933.960555985226,11866.1709986582,11887.251796699084,11986.717881602695,12084.944188615913,12061.569560199323,12161.816397661005,12201.165084770377,12232.724876151862,12271.589739243374,12258.630884509259,12222.887332228176,12142.531801072822,12235.030398190678,12229.895902101898,12166.243252037662,12183.146653891938,12274.754157601956,12202.948430117305,12026.196418739955,12087.17343552394,12026.364592686996,12196.824826211585,12257.169432127163,12317.009646046368,12343.820746778858,12291.74257453796,12353.431698725437,12367.33512436994,12264.406203478176,12193.46313694022,12118.768510755132,12155.783706250935,12241.802172466556,12139.61485981846,12062.843884080587,12149.391243933202,12039.993892234592,11981.19244604468,11730.153511537022,11972.760283138028,12048.878129752518,12123.115708646124,12087.187616246216,12011.680148152278,12153.276623512305,12214.387174578927,12156.069549700236,12163.478302436419,12079.08561179181,11933.149264517891,12087.870511196374,12105.760195802932,11858.395989430071,11801.98696370478],\"type\":\"scatter\"},{\"mode\":\"lines\",\"name\":\"Predicted with Polarity Score\",\"x\":[1,2,3,4,5,6,7,8,9,10,11,12,13,14,15,16,17,18,19,20,21,22,23,24,25,26,27,28,29,30,31,32,33,34,35,36,37,38,39,40,41,42,43,44,45,46,47,48,49,50,51,52,53,54,55,56,57,58,59,60,61,62,63,64,65,66,67,68,69,70,71,72,73,74,75,76,77,78,79,80,81,82,83,84,85,86,87,88,89,90,91,92,93,94,95,96,97,98,99,100,101,102,103,104,105,106,107,108,109,110,111,112,113,114,115,116,117,118,119,120,121,122,123,124,125,126,127,128,129,130,131,132,133,134,135,136,137,138,139,140,141,142,143,144,145,146,147,148,149,150,151,152,153,154,155,156,157,158,159,160,161,162,163,164,165,166,167,168,169,170,171,172,173,174,175,176,177,178,179,180,181,182,183,184,185,186,187,188,189,190,191,192,193,194,195,196,197,198,199,200,201,202,203,204,205,206,207,208,209,210,211,212,213,214,215,216,217,218,219,220,221,222,223,224,225,226,227,228,229,230,231,232,233,234,235,236,237,238,239,240,241,242,243,244,245,246,247,248,249,250,251,252,253,254,255,256,257,258,259,260,261,262,263,264,265,266,267,268,269,270,271,272,273,274,275,276,277,278,279,280,281,282,283,284,285,286,287,288,289,290,291,292,293,294,295,296,297,298,299,300,301,302,303,304,305,306,307,308,309,310,311,312,313,314,315,316,317,318,319,320,321,322,323,324,325,326,327,328,329,330,331,332,333,334,335,336,337,338,339,340,341,342,343,344,345,346,347,348,349,350,351,352,353,354,355,356,357,358,359,360,361,362,363,364,365,366,367,368,369,370,371,372,373,374,375,376,377,378,379,380,381,382,383,384,385,386,387,388,389,390,391,392,393,394,395,396,397,398,399,400,401,402,403,404,405,406,407,408,409,410,411,412,413,414,415,416,417,418,419,420,421,422,423,424,425,426,427,428,429,430,431,432,433,434,435,436,437,438,439,440,441,442,443,444,445,446,447,448,449,450,451,452,453,454,455,456,457,458,459,460,461,462,463,464,465,466,467,468,469,470,471,472,473,474,475,476,477,478,479,480,481,482,483,484,485,486,487,488,489,490,491,492,493,494,495,496,497,498,499,500,501,502,503,504,505,506,507,508,509,510,511,512,513,514,515,516,517,518,519,520,521,522,523,524,525,526,527,528,529,530,531,532,533,534,535,536,537,538,539,540,541,542,543,544,545,546,547,548,549,550,551,552,553,554,555,556,557,558,559,560,561,562,563,564,565,566,567,568,569,570,571,572,573,574,575,576,577,578,579,580,581,582,583,584,585,586,587,588,589,590,591,592,593,594,595,596,597,598,599,600,601,602,603,604,605,606,607,608,609,610,611,612,613,614,615,616,617,618,619,620,621,622,623,624,625,626,627,628,629,630,631,632,633,634,635,636,637,638,639,640,641,642,643,644,645,646,647,648,649,650,651,652,653,654,655,656,657,658,659,660,661,662,663,664,665,666,667,668,669,670,671,672,673,674,675,676,677,678,679,680,681,682,683,684,685,686,687,688,689,690,691,692,693,694,695,696,697,698,699,700,701,702,703,704,705,706,707,708,709,710,711,712,713,714,715,716,717,718,719,720,721,722,723],\"y\":[8892.285455241492,8956.473917710935,8918.53362337507,8890.39078041302,8966.776708545509,8945.278046785397,8914.791973158384,8934.968284028071,8939.830872610788,9099.702200531843,9097.73939404418,9156.727442061985,9174.067658966753,9130.433690928841,9113.44843312604,9052.277935837234,9098.148975179156,9122.17819484855,9045.004903693596,9108.3790540009,9138.212834423373,9177.830543461787,9185.730658741659,9223.753032649676,9237.40694275865,9247.21768478641,9223.703066694574,9187.923707221402,9187.280556903033,9160.139546466544,9141.156305319384,9168.32765277376,9092.99458763113,9139.009991571693,9117.859192400645,9220.855118664991,9291.469674409183,9340.163984456292,9339.192481726719,9298.814649016364,9300.757577699236,9311.420187838805,9336.916161583913,9301.926786319147,9327.354230080096,9315.846927757479,9410.117805857386,9421.710502403977,9389.754676726745,9439.616655485675,9511.411408739086,9507.706913075255,9461.695813131437,9446.80091658718,9458.919500132597,9392.287404102797,9380.357579175152,9517.633269405731,9593.477058772645,9626.247885775903,9625.703159009472,9627.311690268916,9622.06669605321,9656.48557566706,9672.931989756245,9653.159193286605,9651.75368192486,9656.20592566703,9651.476954801725,9609.617102833168,9636.794484897786,9595.190974331561,9577.71507728606,9591.702188563546,9662.036682409625,9654.34318964263,9619.258420401025,9678.024198966932,9589.05036779836,9526.407036524299,9487.171201804174,9512.00478744325,9589.44833116689,9611.717076553168,9631.876578298414,9687.800123802403,9661.378444476433,9726.583750006575,9813.179960679428,9807.281165076898,9891.791880417399,9860.83751352462,9914.64430857387,9852.535239663815,9898.11045606289,9877.812730553836,9876.750041978265,9965.48265754928,9962.985639483843,10008.961371710955,10069.00982217983,9984.440509535532,10068.639141667403,10098.583509966566,10074.31804667997,10017.310295011712,10056.354643413255,10063.109778419588,9992.446393826014,9916.83104806364,9819.635947299626,9749.34613972725,9812.102530705753,9862.890788005492,9899.510891222499,9803.385625384008,9791.804660954334,9779.63541132708,9842.585480547803,9854.566294071317,9903.822644937478,9810.172031272119,9899.401039236865,9886.3801796448,9959.371138186934,9896.02673008724,9935.898638503691,9915.54644122636,9940.38081481586,9926.928958147748,10022.231516214697,10072.274843030664,10101.438941735492,10095.266357692033,10097.215602964758,10165.517504941832,10141.370337236423,10146.920407024292,10096.097646791775,9989.185042443492,9853.378905245678,9843.022602319443,9769.694309766755,9751.118826973554,9822.510151782126,9847.24154784628,9910.247395934588,9909.568346381553,9983.98137519329,9990.871562964021,10021.452916168617,10000.617297113267,10075.458739376807,10184.490764461803,10214.646536919687,10235.957916623714,10207.24159824308,10144.496730238903,10181.828069471085,10206.754302789677,10277.936450688845,10335.985176617276,10324.001461975713,10372.057529920436,10332.850902814453,10440.35324606943,10426.933827564324,10414.170255612114,10471.591015149203,10382.144506626364,10323.881492418786,10297.32392453444,10303.427805273512,10253.05768300162,10208.635073888016,10114.804642921144,10297.661070347696,10286.13170522392,10342.919479628346,10333.482994818158,10331.955911728552,10395.431587184476,10386.392697555322,10380.327697190092,10365.122195870426,10240.38567343779,10156.203071672251,10117.43201987331,10107.989199640127,10059.894871775345,10176.754613501087,10263.363794655264,10303.324349628914,10252.776593878636,10243.52988403946,10207.952007628966,10348.837730820966,10303.199451724635,10460.004132144953,10447.348237947766,10434.200061998125,10488.44196962713,10514.58712191895,10501.838995138207,10501.322095097941,10529.82997768251,10436.90685542024,10459.485083056667,10486.829550832941,10549.696726272121,10622.343841940092,10622.495569853432,10606.207949540552,10640.02016073032,10622.315016924618,10772.030050576093,10702.298446640652,10770.254117192124,10815.00511408555,10874.055217134044,10965.960565208663,11082.758743026621,11085.087260763103,11025.481566495117,11050.287621161051,11021.88283741241,10990.698652311228,10683.220857620225,10574.48574041626,10492.514265489968,10603.457468181568,10461.020023460454,10525.615930684035,10491.68611739359,10592.36888632306,10490.375967856306,10350.079055124444,10392.46195499071,10365.601454087226,10382.076109360141,10484.883964920913,10581.886476533151,10569.2273892409,10509.625383148694,10495.881445118619,10348.2063654589,10289.155227103045,10172.8334373905,10215.209043361696,10248.861324836746,10423.487774591675,10464.384332330834,10373.927902648133,10371.7086925222,10222.984048462693,10119.365145207179,10149.183981269594,10187.10720842486,10158.478083248183,10011.49702783981,10117.120152091122,10168.294503019026,10120.250611926467,10197.96032872778,10238.868873645966,10157.683453056385,10325.68502869227,10322.115245386558,10388.285483694724,10396.524571727594,10370.353578467135,10452.94439482381,10482.120239869299,10532.477042100945,10510.047442727602,10538.182639744595,10553.259465421506,10552.296944564527,10575.810696427172,10623.600048771312,10551.45925488287,10602.487907298853,10709.6506208456,10750.83304649619,10710.168564095375,10661.665395979857,10623.045171590196,10706.16415885017,10702.529453144169,10756.570516077454,10724.946602836857,10792.25944001938,10798.553393261094,10899.31486033634,10745.656308507132,10690.667328459773,10608.96668286418,10535.709804938926,10532.269438135176,10453.336296506011,10496.58273731576,10614.920559714108,10697.241614133072,10657.847668124474,10627.387664645803,10721.502529629635,10716.895388046738,10657.512482958004,10569.342292174773,10680.122229239772,10810.596036618394,10752.714622664169,10839.698560128823,10830.034608129015,10853.485839101368,10788.448844634173,10792.236169566548,10719.13662576003,10766.91060454214,10743.202559652584,10806.656730140845,10773.561418135449,10790.747089034121,10683.055442516066,10593.710592474303,10715.896682956003,10637.855326923027,10678.89264468468,10743.40077843912,10735.999174051283,10802.427986621738,10830.595262084515,10930.28328266474,10944.740280415665,11064.896768950346,11022.03968907892,10945.063618145145,11000.399897400346,10993.659009556222,10952.571319069784,11009.859106942653,11078.630973438803,11122.936659783123,11123.30473917602,11171.925213917813,11258.411791523167,11293.561922815301,11325.55967541428,11347.840588951454,11252.399106269488,11356.220414447353,11395.764261157088,11373.80132185776,11426.385923074857,11457.374456152795,11429.045887630105,11375.742518251718,11434.795102143666,11418.083298945456,11472.646696892547,11553.357837434787,11545.285922592511,11557.358595270223,11569.373878103195,11682.955393214526,11733.92664890267,11694.954317512798,11648.79373775357,11691.297220864999,11608.96790109192,11519.225014247995,11445.941909380103,11496.407910410493,11539.929295285392,11460.620433878687,11324.340158770992,11307.13992619155,11504.169661581956,11384.96835202763,11321.340591301429,11240.028207233514,11048.44029777086,11003.355916121014,11010.235994908368,11028.011300085613,10990.774890108232,10913.274160757659,10949.470156736601,10881.804523973798,10599.382830311093,10354.38401326517,10312.924917935909,10312.691405905784,10466.441239411117,10308.583477623992,10479.957804797808,10438.518574438925,10580.561263061212,10522.87374444551,10310.071863930129,10272.818172764617,10181.263833812276,10176.982668916156,10121.58379419494,10039.98562852276,10229.107572020186,10234.094913698991,10315.874635147286,10364.773287985758,10597.384958935922,10493.968657844094,10550.149408390018,10586.669947382677,10562.919960244486,10535.994772720223,10581.820149338493,10571.979406914046,10623.134479141168,10679.267586101854,10737.21668231985,10662.856728467306,10586.798625635653,10567.57162912563,10574.747896704059,10670.15801413832,10744.490348960915,10857.066674345177,10874.137084083437,10872.407978588646,10852.060145845106,10761.797648351188,10622.809437703589,10665.218264376235,10528.566658735965,10549.634791320212,10723.761329639128,10787.50879105638,10785.365568045876,10886.817905621905,10885.053781110522,10975.513169650085,10951.179282066107,10808.869210473156,10680.93556526225,10668.390578655624,10788.815348399055,10883.182698066375,10872.809158321992,10792.120359638884,10709.84973996929,10683.261243471135,10789.424170586428,10773.226365805003,10782.088513542254,10810.70127321164,10774.532406635908,10718.684110233587,10889.388522442336,10904.239522647078,10868.464762720407,10875.718132398999,10955.48281218522,10880.752145256241,10851.754626144633,10826.648456230456,10850.228338441546,10681.842934863926,10633.34965263361,10639.447041697567,10822.51189605799,10948.622848067995,10875.495357978829,10933.090435733666,11062.670628363996,11090.496300865501,10962.963944699179,10870.497358189743,10863.229088853344,10737.863233884895,10664.55244202104,10674.028167682349,10679.452943231476,10739.288803411127,10785.550669572805,10777.103985187261,10861.605867899185,10848.524973606849,10839.164038792725,10856.44220713842,10952.92779265425,11035.65599042225,11044.381592055086,11019.54570076993,11165.939662898465,11308.221083894863,11307.586541752717,11324.906130606238,11473.157344310364,11476.33317562339,11509.871010071594,11480.649738678556,11326.027258072807,11470.616499423952,11451.411794321453,11570.69624597176,11712.688483931945,11678.818932488144,11674.220037115783,11579.832549633233,11658.294882807973,11588.39841135812,11642.854301703928,11615.83205844041,11566.282484195444,11622.259513677425,11796.5367724143,11760.772277106325,11613.674621348346,11601.056168667335,11714.007364779156,11706.601519817337,11736.365114663502,11679.094173233623,11759.750775793678,11743.288841068765,11597.48212065373,11527.061588727496,11374.892597797065,11299.950435309987,11291.299695321413,11195.943528206848,11254.7898864176,11181.315726471472,11246.14206426543,11415.194716722883,11791.274551989225,11742.822274555188,11741.165135821178,11824.479675585355,11783.542081479723,11914.708737904359,11880.222334526517,11870.986068574912,11953.068878873797,11905.67657638043,12066.869486546077,12049.683960010061,11877.994385222144,11817.664332413337,11918.201247016917,11948.862747231558,11881.978428361599,11879.096929387633,11820.059086160041,11699.513826439503,11690.913204589715,11706.163753482293,11819.20130849088,11729.439576015458,11703.362991320735,11781.832169893918,11871.262741944189,11798.996374435523,11866.781355451318,11851.920943847404,11901.298423709599,11953.924926364718,11850.672971801721,11584.393352518431,11522.018673700795,11540.263125772633,11558.7649149934,11584.55105101809,11549.24865584766,11643.583594435926,11682.112144751505,11600.086142438124,11466.583111443153,11323.209394167108,11339.077917509534,11284.039807995225,11315.594478169787,11191.047396487287,11157.692925388148,11112.08512101192,10940.478684793821,11013.960884152515,10807.553892108624,11009.828639009795,10880.608226673105,11009.958869444114,11154.99480346271,10967.709083009851,11021.738380609517,10975.153006836365,11097.740007104561,11011.94851173057,10946.686710475647,10767.106292849989,10810.94537364432,10888.217044936819,11092.736134084307,11040.069264473192,10960.866341425393,10953.963113736667,10825.22893067351,10819.995568838998,10880.689913696013,10937.676159901896,10987.414828515899,11034.767417941763,11006.904269199988,11047.044015104259,11025.63290147705,10846.677765411632,10829.305113547489,10712.956462781063,11334.228979048296,11633.815207471296,11608.130652536454,11448.618861263993,11598.607840991512,11543.20399898823,11426.918179993114,11353.683270694928,11315.264855835883,11226.78234121761,11165.639325394137,11268.05301467491,11233.006749756218,11305.183624324176,11378.389970165874,11439.566303976924,11432.89588252517,11570.418706111575,11655.10425166885,11644.430044666236,11611.410351570508,11578.498535659804,11525.695117550618,11787.197154461637,11801.895576645336,11909.129536227554,11876.26470035848,11960.972301885638,11886.904363725103,11947.630331346472,11956.637779902294,11952.220352346698,11903.25383378542,11874.677462797801,11844.258682606578,11944.402440773281,11900.792946631153,11920.59179286869,11999.265904591663,11967.291313932628,11896.627551730326,12070.749819953606,12046.66677182836,12093.437169828594,12123.652201478406,12043.26812539356,12044.180319075209,11977.180825223264,12018.28049593795,12017.406156364068,11931.958700974714,11933.9925897202,11866.100773090639,11887.232244210645,11986.663699032846,12084.94963272309,12061.604160306446,12161.788048403285,12201.312620540042,12232.720747850108,12271.62012068356,12258.729277397533,12222.847455884124,12142.53738229536,12235.00919691937,12230.016610252582,12166.165853257056,12183.259739143821,12274.76406115619,12202.984057743863,12026.21220209264,12087.164084370617,12026.363298285629,12196.748258347507,12257.202159273214,12317.04559602492,12343.826714529163,12291.706913541891,12353.413160904054,12367.371600694472,12264.365188570844,12193.506422809782,12118.660226579295,12155.76101437528,12241.927101643168,12139.650054115875,12062.927862909137,12149.336139810506,12039.876230994234,11980.995441293282,11730.034490623117,11972.699286287752,12049.021582601054,12123.149395394708,12087.09307534823,12011.66280021494,12153.177198209642,12214.396498171067,12156.160021946573,12163.511162321998,12079.20292944404,11933.179018883342,12087.814715111783,12105.738308187838,11858.315278075612,11802.07603919676],\"type\":\"scatter\"}],                        {\"template\":{\"data\":{\"histogram2dcontour\":[{\"type\":\"histogram2dcontour\",\"colorbar\":{\"outlinewidth\":0,\"ticks\":\"\"},\"colorscale\":[[0.0,\"#0d0887\"],[0.1111111111111111,\"#46039f\"],[0.2222222222222222,\"#7201a8\"],[0.3333333333333333,\"#9c179e\"],[0.4444444444444444,\"#bd3786\"],[0.5555555555555556,\"#d8576b\"],[0.6666666666666666,\"#ed7953\"],[0.7777777777777778,\"#fb9f3a\"],[0.8888888888888888,\"#fdca26\"],[1.0,\"#f0f921\"]]}],\"choropleth\":[{\"type\":\"choropleth\",\"colorbar\":{\"outlinewidth\":0,\"ticks\":\"\"}}],\"histogram2d\":[{\"type\":\"histogram2d\",\"colorbar\":{\"outlinewidth\":0,\"ticks\":\"\"},\"colorscale\":[[0.0,\"#0d0887\"],[0.1111111111111111,\"#46039f\"],[0.2222222222222222,\"#7201a8\"],[0.3333333333333333,\"#9c179e\"],[0.4444444444444444,\"#bd3786\"],[0.5555555555555556,\"#d8576b\"],[0.6666666666666666,\"#ed7953\"],[0.7777777777777778,\"#fb9f3a\"],[0.8888888888888888,\"#fdca26\"],[1.0,\"#f0f921\"]]}],\"heatmap\":[{\"type\":\"heatmap\",\"colorbar\":{\"outlinewidth\":0,\"ticks\":\"\"},\"colorscale\":[[0.0,\"#0d0887\"],[0.1111111111111111,\"#46039f\"],[0.2222222222222222,\"#7201a8\"],[0.3333333333333333,\"#9c179e\"],[0.4444444444444444,\"#bd3786\"],[0.5555555555555556,\"#d8576b\"],[0.6666666666666666,\"#ed7953\"],[0.7777777777777778,\"#fb9f3a\"],[0.8888888888888888,\"#fdca26\"],[1.0,\"#f0f921\"]]}],\"heatmapgl\":[{\"type\":\"heatmapgl\",\"colorbar\":{\"outlinewidth\":0,\"ticks\":\"\"},\"colorscale\":[[0.0,\"#0d0887\"],[0.1111111111111111,\"#46039f\"],[0.2222222222222222,\"#7201a8\"],[0.3333333333333333,\"#9c179e\"],[0.4444444444444444,\"#bd3786\"],[0.5555555555555556,\"#d8576b\"],[0.6666666666666666,\"#ed7953\"],[0.7777777777777778,\"#fb9f3a\"],[0.8888888888888888,\"#fdca26\"],[1.0,\"#f0f921\"]]}],\"contourcarpet\":[{\"type\":\"contourcarpet\",\"colorbar\":{\"outlinewidth\":0,\"ticks\":\"\"}}],\"contour\":[{\"type\":\"contour\",\"colorbar\":{\"outlinewidth\":0,\"ticks\":\"\"},\"colorscale\":[[0.0,\"#0d0887\"],[0.1111111111111111,\"#46039f\"],[0.2222222222222222,\"#7201a8\"],[0.3333333333333333,\"#9c179e\"],[0.4444444444444444,\"#bd3786\"],[0.5555555555555556,\"#d8576b\"],[0.6666666666666666,\"#ed7953\"],[0.7777777777777778,\"#fb9f3a\"],[0.8888888888888888,\"#fdca26\"],[1.0,\"#f0f921\"]]}],\"surface\":[{\"type\":\"surface\",\"colorbar\":{\"outlinewidth\":0,\"ticks\":\"\"},\"colorscale\":[[0.0,\"#0d0887\"],[0.1111111111111111,\"#46039f\"],[0.2222222222222222,\"#7201a8\"],[0.3333333333333333,\"#9c179e\"],[0.4444444444444444,\"#bd3786\"],[0.5555555555555556,\"#d8576b\"],[0.6666666666666666,\"#ed7953\"],[0.7777777777777778,\"#fb9f3a\"],[0.8888888888888888,\"#fdca26\"],[1.0,\"#f0f921\"]]}],\"mesh3d\":[{\"type\":\"mesh3d\",\"colorbar\":{\"outlinewidth\":0,\"ticks\":\"\"}}],\"scatter\":[{\"fillpattern\":{\"fillmode\":\"overlay\",\"size\":10,\"solidity\":0.2},\"type\":\"scatter\"}],\"parcoords\":[{\"type\":\"parcoords\",\"line\":{\"colorbar\":{\"outlinewidth\":0,\"ticks\":\"\"}}}],\"scatterpolargl\":[{\"type\":\"scatterpolargl\",\"marker\":{\"colorbar\":{\"outlinewidth\":0,\"ticks\":\"\"}}}],\"bar\":[{\"error_x\":{\"color\":\"#2a3f5f\"},\"error_y\":{\"color\":\"#2a3f5f\"},\"marker\":{\"line\":{\"color\":\"#E5ECF6\",\"width\":0.5},\"pattern\":{\"fillmode\":\"overlay\",\"size\":10,\"solidity\":0.2}},\"type\":\"bar\"}],\"scattergeo\":[{\"type\":\"scattergeo\",\"marker\":{\"colorbar\":{\"outlinewidth\":0,\"ticks\":\"\"}}}],\"scatterpolar\":[{\"type\":\"scatterpolar\",\"marker\":{\"colorbar\":{\"outlinewidth\":0,\"ticks\":\"\"}}}],\"histogram\":[{\"marker\":{\"pattern\":{\"fillmode\":\"overlay\",\"size\":10,\"solidity\":0.2}},\"type\":\"histogram\"}],\"scattergl\":[{\"type\":\"scattergl\",\"marker\":{\"colorbar\":{\"outlinewidth\":0,\"ticks\":\"\"}}}],\"scatter3d\":[{\"type\":\"scatter3d\",\"line\":{\"colorbar\":{\"outlinewidth\":0,\"ticks\":\"\"}},\"marker\":{\"colorbar\":{\"outlinewidth\":0,\"ticks\":\"\"}}}],\"scattermapbox\":[{\"type\":\"scattermapbox\",\"marker\":{\"colorbar\":{\"outlinewidth\":0,\"ticks\":\"\"}}}],\"scatterternary\":[{\"type\":\"scatterternary\",\"marker\":{\"colorbar\":{\"outlinewidth\":0,\"ticks\":\"\"}}}],\"scattercarpet\":[{\"type\":\"scattercarpet\",\"marker\":{\"colorbar\":{\"outlinewidth\":0,\"ticks\":\"\"}}}],\"carpet\":[{\"aaxis\":{\"endlinecolor\":\"#2a3f5f\",\"gridcolor\":\"white\",\"linecolor\":\"white\",\"minorgridcolor\":\"white\",\"startlinecolor\":\"#2a3f5f\"},\"baxis\":{\"endlinecolor\":\"#2a3f5f\",\"gridcolor\":\"white\",\"linecolor\":\"white\",\"minorgridcolor\":\"white\",\"startlinecolor\":\"#2a3f5f\"},\"type\":\"carpet\"}],\"table\":[{\"cells\":{\"fill\":{\"color\":\"#EBF0F8\"},\"line\":{\"color\":\"white\"}},\"header\":{\"fill\":{\"color\":\"#C8D4E3\"},\"line\":{\"color\":\"white\"}},\"type\":\"table\"}],\"barpolar\":[{\"marker\":{\"line\":{\"color\":\"#E5ECF6\",\"width\":0.5},\"pattern\":{\"fillmode\":\"overlay\",\"size\":10,\"solidity\":0.2}},\"type\":\"barpolar\"}],\"pie\":[{\"automargin\":true,\"type\":\"pie\"}]},\"layout\":{\"autotypenumbers\":\"strict\",\"colorway\":[\"#636efa\",\"#EF553B\",\"#00cc96\",\"#ab63fa\",\"#FFA15A\",\"#19d3f3\",\"#FF6692\",\"#B6E880\",\"#FF97FF\",\"#FECB52\"],\"font\":{\"color\":\"#2a3f5f\"},\"hovermode\":\"closest\",\"hoverlabel\":{\"align\":\"left\"},\"paper_bgcolor\":\"white\",\"plot_bgcolor\":\"#E5ECF6\",\"polar\":{\"bgcolor\":\"#E5ECF6\",\"angularaxis\":{\"gridcolor\":\"white\",\"linecolor\":\"white\",\"ticks\":\"\"},\"radialaxis\":{\"gridcolor\":\"white\",\"linecolor\":\"white\",\"ticks\":\"\"}},\"ternary\":{\"bgcolor\":\"#E5ECF6\",\"aaxis\":{\"gridcolor\":\"white\",\"linecolor\":\"white\",\"ticks\":\"\"},\"baxis\":{\"gridcolor\":\"white\",\"linecolor\":\"white\",\"ticks\":\"\"},\"caxis\":{\"gridcolor\":\"white\",\"linecolor\":\"white\",\"ticks\":\"\"}},\"coloraxis\":{\"colorbar\":{\"outlinewidth\":0,\"ticks\":\"\"}},\"colorscale\":{\"sequential\":[[0.0,\"#0d0887\"],[0.1111111111111111,\"#46039f\"],[0.2222222222222222,\"#7201a8\"],[0.3333333333333333,\"#9c179e\"],[0.4444444444444444,\"#bd3786\"],[0.5555555555555556,\"#d8576b\"],[0.6666666666666666,\"#ed7953\"],[0.7777777777777778,\"#fb9f3a\"],[0.8888888888888888,\"#fdca26\"],[1.0,\"#f0f921\"]],\"sequentialminus\":[[0.0,\"#0d0887\"],[0.1111111111111111,\"#46039f\"],[0.2222222222222222,\"#7201a8\"],[0.3333333333333333,\"#9c179e\"],[0.4444444444444444,\"#bd3786\"],[0.5555555555555556,\"#d8576b\"],[0.6666666666666666,\"#ed7953\"],[0.7777777777777778,\"#fb9f3a\"],[0.8888888888888888,\"#fdca26\"],[1.0,\"#f0f921\"]],\"diverging\":[[0,\"#8e0152\"],[0.1,\"#c51b7d\"],[0.2,\"#de77ae\"],[0.3,\"#f1b6da\"],[0.4,\"#fde0ef\"],[0.5,\"#f7f7f7\"],[0.6,\"#e6f5d0\"],[0.7,\"#b8e186\"],[0.8,\"#7fbc41\"],[0.9,\"#4d9221\"],[1,\"#276419\"]]},\"xaxis\":{\"gridcolor\":\"white\",\"linecolor\":\"white\",\"ticks\":\"\",\"title\":{\"standoff\":15},\"zerolinecolor\":\"white\",\"automargin\":true,\"zerolinewidth\":2},\"yaxis\":{\"gridcolor\":\"white\",\"linecolor\":\"white\",\"ticks\":\"\",\"title\":{\"standoff\":15},\"zerolinecolor\":\"white\",\"automargin\":true,\"zerolinewidth\":2},\"scene\":{\"xaxis\":{\"backgroundcolor\":\"#E5ECF6\",\"gridcolor\":\"white\",\"linecolor\":\"white\",\"showbackground\":true,\"ticks\":\"\",\"zerolinecolor\":\"white\",\"gridwidth\":2},\"yaxis\":{\"backgroundcolor\":\"#E5ECF6\",\"gridcolor\":\"white\",\"linecolor\":\"white\",\"showbackground\":true,\"ticks\":\"\",\"zerolinecolor\":\"white\",\"gridwidth\":2},\"zaxis\":{\"backgroundcolor\":\"#E5ECF6\",\"gridcolor\":\"white\",\"linecolor\":\"white\",\"showbackground\":true,\"ticks\":\"\",\"zerolinecolor\":\"white\",\"gridwidth\":2}},\"shapedefaults\":{\"line\":{\"color\":\"#2a3f5f\"}},\"annotationdefaults\":{\"arrowcolor\":\"#2a3f5f\",\"arrowhead\":0,\"arrowwidth\":1},\"geo\":{\"bgcolor\":\"white\",\"landcolor\":\"#E5ECF6\",\"subunitcolor\":\"white\",\"showland\":true,\"showlakes\":true,\"lakecolor\":\"white\"},\"title\":{\"x\":0.05},\"mapbox\":{\"style\":\"light\"}}},\"margin\":{\"l\":50,\"r\":50,\"b\":100,\"t\":100,\"pad\":4},\"title\":{\"text\":\"Comparative Study\"},\"xaxis\":{\"title\":{\"text\":\"Index\"}},\"yaxis\":{\"title\":{\"text\":\"Value\"}},\"autosize\":false,\"width\":1000,\"height\":600},                        {\"responsive\": true}                    ).then(function(){\n",
              "                            \n",
              "var gd = document.getElementById('6c3684c3-204e-43d5-9c91-7f6d08d02ac0');\n",
              "var x = new MutationObserver(function (mutations, observer) {{\n",
              "        var display = window.getComputedStyle(gd).display;\n",
              "        if (!display || display === 'none') {{\n",
              "            console.log([gd, 'removed!']);\n",
              "            Plotly.purge(gd);\n",
              "            observer.disconnect();\n",
              "        }}\n",
              "}});\n",
              "\n",
              "// Listen for the removal of the full notebook cells\n",
              "var notebookContainer = gd.closest('#notebook-container');\n",
              "if (notebookContainer) {{\n",
              "    x.observe(notebookContainer, {childList: true});\n",
              "}}\n",
              "\n",
              "// Listen for the clearing of the current output cell\n",
              "var outputEl = gd.closest('.output');\n",
              "if (outputEl) {{\n",
              "    x.observe(outputEl, {childList: true});\n",
              "}}\n",
              "\n",
              "                        })                };                            </script>        </div>\n",
              "</body>\n",
              "</html>"
            ]
          },
          "metadata": {}
        }
      ]
    }
  ]
}